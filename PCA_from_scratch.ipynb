{
 "cells": [
  {
   "cell_type": "code",
   "execution_count": 1,
   "metadata": {},
   "outputs": [],
   "source": [
    "# Problem 6: Implement Principal Component Analysis (PCA) from scratch."
   ]
  },
  {
   "cell_type": "code",
   "execution_count": 1,
   "metadata": {},
   "outputs": [],
   "source": [
    "import numpy as np \n",
    "import pandas as pd "
   ]
  },
  {
   "cell_type": "code",
   "execution_count": 3,
   "metadata": {},
   "outputs": [],
   "source": [
    "from sklearn.datasets import make_classification"
   ]
  },
  {
   "cell_type": "code",
   "execution_count": 21,
   "metadata": {},
   "outputs": [],
   "source": [
    "class PCA :\n",
    "    def __init__(self, n_component):\n",
    "        self.n_component = n_component\n",
    "        self.mean = None \n",
    "        self.components = None\n",
    "\n",
    "    def fit(self, x):\n",
    "        ## mean centerning : subtracting mean \n",
    "        self.mean = np.mean(x)\n",
    "        X = x- self.mean\n",
    "        print(\"the new x is :\",X)\n",
    "        ## covariance function needs samples as columns \n",
    "        cov = np.cov(X.T)\n",
    "        print(\"cov is :\",cov)\n",
    "        \n",
    "        ## eigenvector and eifenvalue \n",
    "        eigenvectors, eigenvalues = np.linalg.eig(cov)\n",
    "        print(\"eigenvalues are :\",eigenvalues)\n",
    "        \n",
    "        print(\"eigenvectos before is \",eigenvectors)\n",
    "        \n",
    "        eigenvectors = eigenvectors.T\n",
    "        \n",
    "        ## sort eigenvectors\n",
    "        idx = np.argsort(eigenvalues)[::-1]\n",
    "        print(\"sorted index is\",idx)\n",
    "\n",
    "        eigenvalues =  eigenvalues[idx]\n",
    "\n",
    "        eigenvectors = eigenvectors[idx]\n",
    "        print(\"eigenvectos after is \",eigenvectors)\n",
    "\n",
    "        self.components = eigenvectors[:self.n_component]\n",
    "        \n",
    "        print(\"component is : \",self.components)\n",
    "    def transform(self,x):\n",
    "        ## project data \n",
    "        X = x - self.mean\n",
    "        return np.dot(X,self.components.T)\n",
    "\n"
   ]
  },
  {
   "cell_type": "code",
   "execution_count": 22,
   "metadata": {},
   "outputs": [],
   "source": [
    "import matplotlib.pyplot as plt\n",
    "from sklearn import datasets"
   ]
  },
  {
   "cell_type": "code",
   "execution_count": 23,
   "metadata": {},
   "outputs": [],
   "source": [
    "data = datasets.load_iris()\n",
    "x = data.data\n",
    "y = data.target"
   ]
  },
  {
   "cell_type": "code",
   "execution_count": 24,
   "metadata": {},
   "outputs": [
    {
     "data": {
      "text/plain": [
       "array([[5.1, 3.5, 1.4, 0.2],\n",
       "       [4.9, 3. , 1.4, 0.2],\n",
       "       [4.7, 3.2, 1.3, 0.2],\n",
       "       [4.6, 3.1, 1.5, 0.2],\n",
       "       [5. , 3.6, 1.4, 0.2],\n",
       "       [5.4, 3.9, 1.7, 0.4],\n",
       "       [4.6, 3.4, 1.4, 0.3],\n",
       "       [5. , 3.4, 1.5, 0.2],\n",
       "       [4.4, 2.9, 1.4, 0.2],\n",
       "       [4.9, 3.1, 1.5, 0.1],\n",
       "       [5.4, 3.7, 1.5, 0.2],\n",
       "       [4.8, 3.4, 1.6, 0.2],\n",
       "       [4.8, 3. , 1.4, 0.1],\n",
       "       [4.3, 3. , 1.1, 0.1],\n",
       "       [5.8, 4. , 1.2, 0.2],\n",
       "       [5.7, 4.4, 1.5, 0.4],\n",
       "       [5.4, 3.9, 1.3, 0.4],\n",
       "       [5.1, 3.5, 1.4, 0.3],\n",
       "       [5.7, 3.8, 1.7, 0.3],\n",
       "       [5.1, 3.8, 1.5, 0.3],\n",
       "       [5.4, 3.4, 1.7, 0.2],\n",
       "       [5.1, 3.7, 1.5, 0.4],\n",
       "       [4.6, 3.6, 1. , 0.2],\n",
       "       [5.1, 3.3, 1.7, 0.5],\n",
       "       [4.8, 3.4, 1.9, 0.2],\n",
       "       [5. , 3. , 1.6, 0.2],\n",
       "       [5. , 3.4, 1.6, 0.4],\n",
       "       [5.2, 3.5, 1.5, 0.2],\n",
       "       [5.2, 3.4, 1.4, 0.2],\n",
       "       [4.7, 3.2, 1.6, 0.2],\n",
       "       [4.8, 3.1, 1.6, 0.2],\n",
       "       [5.4, 3.4, 1.5, 0.4],\n",
       "       [5.2, 4.1, 1.5, 0.1],\n",
       "       [5.5, 4.2, 1.4, 0.2],\n",
       "       [4.9, 3.1, 1.5, 0.2],\n",
       "       [5. , 3.2, 1.2, 0.2],\n",
       "       [5.5, 3.5, 1.3, 0.2],\n",
       "       [4.9, 3.6, 1.4, 0.1],\n",
       "       [4.4, 3. , 1.3, 0.2],\n",
       "       [5.1, 3.4, 1.5, 0.2],\n",
       "       [5. , 3.5, 1.3, 0.3],\n",
       "       [4.5, 2.3, 1.3, 0.3],\n",
       "       [4.4, 3.2, 1.3, 0.2],\n",
       "       [5. , 3.5, 1.6, 0.6],\n",
       "       [5.1, 3.8, 1.9, 0.4],\n",
       "       [4.8, 3. , 1.4, 0.3],\n",
       "       [5.1, 3.8, 1.6, 0.2],\n",
       "       [4.6, 3.2, 1.4, 0.2],\n",
       "       [5.3, 3.7, 1.5, 0.2],\n",
       "       [5. , 3.3, 1.4, 0.2],\n",
       "       [7. , 3.2, 4.7, 1.4],\n",
       "       [6.4, 3.2, 4.5, 1.5],\n",
       "       [6.9, 3.1, 4.9, 1.5],\n",
       "       [5.5, 2.3, 4. , 1.3],\n",
       "       [6.5, 2.8, 4.6, 1.5],\n",
       "       [5.7, 2.8, 4.5, 1.3],\n",
       "       [6.3, 3.3, 4.7, 1.6],\n",
       "       [4.9, 2.4, 3.3, 1. ],\n",
       "       [6.6, 2.9, 4.6, 1.3],\n",
       "       [5.2, 2.7, 3.9, 1.4],\n",
       "       [5. , 2. , 3.5, 1. ],\n",
       "       [5.9, 3. , 4.2, 1.5],\n",
       "       [6. , 2.2, 4. , 1. ],\n",
       "       [6.1, 2.9, 4.7, 1.4],\n",
       "       [5.6, 2.9, 3.6, 1.3],\n",
       "       [6.7, 3.1, 4.4, 1.4],\n",
       "       [5.6, 3. , 4.5, 1.5],\n",
       "       [5.8, 2.7, 4.1, 1. ],\n",
       "       [6.2, 2.2, 4.5, 1.5],\n",
       "       [5.6, 2.5, 3.9, 1.1],\n",
       "       [5.9, 3.2, 4.8, 1.8],\n",
       "       [6.1, 2.8, 4. , 1.3],\n",
       "       [6.3, 2.5, 4.9, 1.5],\n",
       "       [6.1, 2.8, 4.7, 1.2],\n",
       "       [6.4, 2.9, 4.3, 1.3],\n",
       "       [6.6, 3. , 4.4, 1.4],\n",
       "       [6.8, 2.8, 4.8, 1.4],\n",
       "       [6.7, 3. , 5. , 1.7],\n",
       "       [6. , 2.9, 4.5, 1.5],\n",
       "       [5.7, 2.6, 3.5, 1. ],\n",
       "       [5.5, 2.4, 3.8, 1.1],\n",
       "       [5.5, 2.4, 3.7, 1. ],\n",
       "       [5.8, 2.7, 3.9, 1.2],\n",
       "       [6. , 2.7, 5.1, 1.6],\n",
       "       [5.4, 3. , 4.5, 1.5],\n",
       "       [6. , 3.4, 4.5, 1.6],\n",
       "       [6.7, 3.1, 4.7, 1.5],\n",
       "       [6.3, 2.3, 4.4, 1.3],\n",
       "       [5.6, 3. , 4.1, 1.3],\n",
       "       [5.5, 2.5, 4. , 1.3],\n",
       "       [5.5, 2.6, 4.4, 1.2],\n",
       "       [6.1, 3. , 4.6, 1.4],\n",
       "       [5.8, 2.6, 4. , 1.2],\n",
       "       [5. , 2.3, 3.3, 1. ],\n",
       "       [5.6, 2.7, 4.2, 1.3],\n",
       "       [5.7, 3. , 4.2, 1.2],\n",
       "       [5.7, 2.9, 4.2, 1.3],\n",
       "       [6.2, 2.9, 4.3, 1.3],\n",
       "       [5.1, 2.5, 3. , 1.1],\n",
       "       [5.7, 2.8, 4.1, 1.3],\n",
       "       [6.3, 3.3, 6. , 2.5],\n",
       "       [5.8, 2.7, 5.1, 1.9],\n",
       "       [7.1, 3. , 5.9, 2.1],\n",
       "       [6.3, 2.9, 5.6, 1.8],\n",
       "       [6.5, 3. , 5.8, 2.2],\n",
       "       [7.6, 3. , 6.6, 2.1],\n",
       "       [4.9, 2.5, 4.5, 1.7],\n",
       "       [7.3, 2.9, 6.3, 1.8],\n",
       "       [6.7, 2.5, 5.8, 1.8],\n",
       "       [7.2, 3.6, 6.1, 2.5],\n",
       "       [6.5, 3.2, 5.1, 2. ],\n",
       "       [6.4, 2.7, 5.3, 1.9],\n",
       "       [6.8, 3. , 5.5, 2.1],\n",
       "       [5.7, 2.5, 5. , 2. ],\n",
       "       [5.8, 2.8, 5.1, 2.4],\n",
       "       [6.4, 3.2, 5.3, 2.3],\n",
       "       [6.5, 3. , 5.5, 1.8],\n",
       "       [7.7, 3.8, 6.7, 2.2],\n",
       "       [7.7, 2.6, 6.9, 2.3],\n",
       "       [6. , 2.2, 5. , 1.5],\n",
       "       [6.9, 3.2, 5.7, 2.3],\n",
       "       [5.6, 2.8, 4.9, 2. ],\n",
       "       [7.7, 2.8, 6.7, 2. ],\n",
       "       [6.3, 2.7, 4.9, 1.8],\n",
       "       [6.7, 3.3, 5.7, 2.1],\n",
       "       [7.2, 3.2, 6. , 1.8],\n",
       "       [6.2, 2.8, 4.8, 1.8],\n",
       "       [6.1, 3. , 4.9, 1.8],\n",
       "       [6.4, 2.8, 5.6, 2.1],\n",
       "       [7.2, 3. , 5.8, 1.6],\n",
       "       [7.4, 2.8, 6.1, 1.9],\n",
       "       [7.9, 3.8, 6.4, 2. ],\n",
       "       [6.4, 2.8, 5.6, 2.2],\n",
       "       [6.3, 2.8, 5.1, 1.5],\n",
       "       [6.1, 2.6, 5.6, 1.4],\n",
       "       [7.7, 3. , 6.1, 2.3],\n",
       "       [6.3, 3.4, 5.6, 2.4],\n",
       "       [6.4, 3.1, 5.5, 1.8],\n",
       "       [6. , 3. , 4.8, 1.8],\n",
       "       [6.9, 3.1, 5.4, 2.1],\n",
       "       [6.7, 3.1, 5.6, 2.4],\n",
       "       [6.9, 3.1, 5.1, 2.3],\n",
       "       [5.8, 2.7, 5.1, 1.9],\n",
       "       [6.8, 3.2, 5.9, 2.3],\n",
       "       [6.7, 3.3, 5.7, 2.5],\n",
       "       [6.7, 3. , 5.2, 2.3],\n",
       "       [6.3, 2.5, 5. , 1.9],\n",
       "       [6.5, 3. , 5.2, 2. ],\n",
       "       [6.2, 3.4, 5.4, 2.3],\n",
       "       [5.9, 3. , 5.1, 1.8]])"
      ]
     },
     "execution_count": 24,
     "metadata": {},
     "output_type": "execute_result"
    }
   ],
   "source": [
    "x"
   ]
  },
  {
   "cell_type": "code",
   "execution_count": 25,
   "metadata": {},
   "outputs": [
    {
     "data": {
      "text/plain": [
       "array([0, 0, 0, 0, 0, 0, 0, 0, 0, 0, 0, 0, 0, 0, 0, 0, 0, 0, 0, 0, 0, 0,\n",
       "       0, 0, 0, 0, 0, 0, 0, 0, 0, 0, 0, 0, 0, 0, 0, 0, 0, 0, 0, 0, 0, 0,\n",
       "       0, 0, 0, 0, 0, 0, 1, 1, 1, 1, 1, 1, 1, 1, 1, 1, 1, 1, 1, 1, 1, 1,\n",
       "       1, 1, 1, 1, 1, 1, 1, 1, 1, 1, 1, 1, 1, 1, 1, 1, 1, 1, 1, 1, 1, 1,\n",
       "       1, 1, 1, 1, 1, 1, 1, 1, 1, 1, 1, 1, 2, 2, 2, 2, 2, 2, 2, 2, 2, 2,\n",
       "       2, 2, 2, 2, 2, 2, 2, 2, 2, 2, 2, 2, 2, 2, 2, 2, 2, 2, 2, 2, 2, 2,\n",
       "       2, 2, 2, 2, 2, 2, 2, 2, 2, 2, 2, 2, 2, 2, 2, 2, 2, 2])"
      ]
     },
     "execution_count": 25,
     "metadata": {},
     "output_type": "execute_result"
    }
   ],
   "source": [
    "y"
   ]
  },
  {
   "cell_type": "code",
   "execution_count": 26,
   "metadata": {},
   "outputs": [],
   "source": [
    "pca = PCA(2)"
   ]
  },
  {
   "cell_type": "code",
   "execution_count": 27,
   "metadata": {},
   "outputs": [
    {
     "name": "stdout",
     "output_type": "stream",
     "text": [
      "the new x is : [[ 1.6355  0.0355 -2.0645 -3.2645]\n",
      " [ 1.4355 -0.4645 -2.0645 -3.2645]\n",
      " [ 1.2355 -0.2645 -2.1645 -3.2645]\n",
      " [ 1.1355 -0.3645 -1.9645 -3.2645]\n",
      " [ 1.5355  0.1355 -2.0645 -3.2645]\n",
      " [ 1.9355  0.4355 -1.7645 -3.0645]\n",
      " [ 1.1355 -0.0645 -2.0645 -3.1645]\n",
      " [ 1.5355 -0.0645 -1.9645 -3.2645]\n",
      " [ 0.9355 -0.5645 -2.0645 -3.2645]\n",
      " [ 1.4355 -0.3645 -1.9645 -3.3645]\n",
      " [ 1.9355  0.2355 -1.9645 -3.2645]\n",
      " [ 1.3355 -0.0645 -1.8645 -3.2645]\n",
      " [ 1.3355 -0.4645 -2.0645 -3.3645]\n",
      " [ 0.8355 -0.4645 -2.3645 -3.3645]\n",
      " [ 2.3355  0.5355 -2.2645 -3.2645]\n",
      " [ 2.2355  0.9355 -1.9645 -3.0645]\n",
      " [ 1.9355  0.4355 -2.1645 -3.0645]\n",
      " [ 1.6355  0.0355 -2.0645 -3.1645]\n",
      " [ 2.2355  0.3355 -1.7645 -3.1645]\n",
      " [ 1.6355  0.3355 -1.9645 -3.1645]\n",
      " [ 1.9355 -0.0645 -1.7645 -3.2645]\n",
      " [ 1.6355  0.2355 -1.9645 -3.0645]\n",
      " [ 1.1355  0.1355 -2.4645 -3.2645]\n",
      " [ 1.6355 -0.1645 -1.7645 -2.9645]\n",
      " [ 1.3355 -0.0645 -1.5645 -3.2645]\n",
      " [ 1.5355 -0.4645 -1.8645 -3.2645]\n",
      " [ 1.5355 -0.0645 -1.8645 -3.0645]\n",
      " [ 1.7355  0.0355 -1.9645 -3.2645]\n",
      " [ 1.7355 -0.0645 -2.0645 -3.2645]\n",
      " [ 1.2355 -0.2645 -1.8645 -3.2645]\n",
      " [ 1.3355 -0.3645 -1.8645 -3.2645]\n",
      " [ 1.9355 -0.0645 -1.9645 -3.0645]\n",
      " [ 1.7355  0.6355 -1.9645 -3.3645]\n",
      " [ 2.0355  0.7355 -2.0645 -3.2645]\n",
      " [ 1.4355 -0.3645 -1.9645 -3.2645]\n",
      " [ 1.5355 -0.2645 -2.2645 -3.2645]\n",
      " [ 2.0355  0.0355 -2.1645 -3.2645]\n",
      " [ 1.4355  0.1355 -2.0645 -3.3645]\n",
      " [ 0.9355 -0.4645 -2.1645 -3.2645]\n",
      " [ 1.6355 -0.0645 -1.9645 -3.2645]\n",
      " [ 1.5355  0.0355 -2.1645 -3.1645]\n",
      " [ 1.0355 -1.1645 -2.1645 -3.1645]\n",
      " [ 0.9355 -0.2645 -2.1645 -3.2645]\n",
      " [ 1.5355  0.0355 -1.8645 -2.8645]\n",
      " [ 1.6355  0.3355 -1.5645 -3.0645]\n",
      " [ 1.3355 -0.4645 -2.0645 -3.1645]\n",
      " [ 1.6355  0.3355 -1.8645 -3.2645]\n",
      " [ 1.1355 -0.2645 -2.0645 -3.2645]\n",
      " [ 1.8355  0.2355 -1.9645 -3.2645]\n",
      " [ 1.5355 -0.1645 -2.0645 -3.2645]\n",
      " [ 3.5355 -0.2645  1.2355 -2.0645]\n",
      " [ 2.9355 -0.2645  1.0355 -1.9645]\n",
      " [ 3.4355 -0.3645  1.4355 -1.9645]\n",
      " [ 2.0355 -1.1645  0.5355 -2.1645]\n",
      " [ 3.0355 -0.6645  1.1355 -1.9645]\n",
      " [ 2.2355 -0.6645  1.0355 -2.1645]\n",
      " [ 2.8355 -0.1645  1.2355 -1.8645]\n",
      " [ 1.4355 -1.0645 -0.1645 -2.4645]\n",
      " [ 3.1355 -0.5645  1.1355 -2.1645]\n",
      " [ 1.7355 -0.7645  0.4355 -2.0645]\n",
      " [ 1.5355 -1.4645  0.0355 -2.4645]\n",
      " [ 2.4355 -0.4645  0.7355 -1.9645]\n",
      " [ 2.5355 -1.2645  0.5355 -2.4645]\n",
      " [ 2.6355 -0.5645  1.2355 -2.0645]\n",
      " [ 2.1355 -0.5645  0.1355 -2.1645]\n",
      " [ 3.2355 -0.3645  0.9355 -2.0645]\n",
      " [ 2.1355 -0.4645  1.0355 -1.9645]\n",
      " [ 2.3355 -0.7645  0.6355 -2.4645]\n",
      " [ 2.7355 -1.2645  1.0355 -1.9645]\n",
      " [ 2.1355 -0.9645  0.4355 -2.3645]\n",
      " [ 2.4355 -0.2645  1.3355 -1.6645]\n",
      " [ 2.6355 -0.6645  0.5355 -2.1645]\n",
      " [ 2.8355 -0.9645  1.4355 -1.9645]\n",
      " [ 2.6355 -0.6645  1.2355 -2.2645]\n",
      " [ 2.9355 -0.5645  0.8355 -2.1645]\n",
      " [ 3.1355 -0.4645  0.9355 -2.0645]\n",
      " [ 3.3355 -0.6645  1.3355 -2.0645]\n",
      " [ 3.2355 -0.4645  1.5355 -1.7645]\n",
      " [ 2.5355 -0.5645  1.0355 -1.9645]\n",
      " [ 2.2355 -0.8645  0.0355 -2.4645]\n",
      " [ 2.0355 -1.0645  0.3355 -2.3645]\n",
      " [ 2.0355 -1.0645  0.2355 -2.4645]\n",
      " [ 2.3355 -0.7645  0.4355 -2.2645]\n",
      " [ 2.5355 -0.7645  1.6355 -1.8645]\n",
      " [ 1.9355 -0.4645  1.0355 -1.9645]\n",
      " [ 2.5355 -0.0645  1.0355 -1.8645]\n",
      " [ 3.2355 -0.3645  1.2355 -1.9645]\n",
      " [ 2.8355 -1.1645  0.9355 -2.1645]\n",
      " [ 2.1355 -0.4645  0.6355 -2.1645]\n",
      " [ 2.0355 -0.9645  0.5355 -2.1645]\n",
      " [ 2.0355 -0.8645  0.9355 -2.2645]\n",
      " [ 2.6355 -0.4645  1.1355 -2.0645]\n",
      " [ 2.3355 -0.8645  0.5355 -2.2645]\n",
      " [ 1.5355 -1.1645 -0.1645 -2.4645]\n",
      " [ 2.1355 -0.7645  0.7355 -2.1645]\n",
      " [ 2.2355 -0.4645  0.7355 -2.2645]\n",
      " [ 2.2355 -0.5645  0.7355 -2.1645]\n",
      " [ 2.7355 -0.5645  0.8355 -2.1645]\n",
      " [ 1.6355 -0.9645 -0.4645 -2.3645]\n",
      " [ 2.2355 -0.6645  0.6355 -2.1645]\n",
      " [ 2.8355 -0.1645  2.5355 -0.9645]\n",
      " [ 2.3355 -0.7645  1.6355 -1.5645]\n",
      " [ 3.6355 -0.4645  2.4355 -1.3645]\n",
      " [ 2.8355 -0.5645  2.1355 -1.6645]\n",
      " [ 3.0355 -0.4645  2.3355 -1.2645]\n",
      " [ 4.1355 -0.4645  3.1355 -1.3645]\n",
      " [ 1.4355 -0.9645  1.0355 -1.7645]\n",
      " [ 3.8355 -0.5645  2.8355 -1.6645]\n",
      " [ 3.2355 -0.9645  2.3355 -1.6645]\n",
      " [ 3.7355  0.1355  2.6355 -0.9645]\n",
      " [ 3.0355 -0.2645  1.6355 -1.4645]\n",
      " [ 2.9355 -0.7645  1.8355 -1.5645]\n",
      " [ 3.3355 -0.4645  2.0355 -1.3645]\n",
      " [ 2.2355 -0.9645  1.5355 -1.4645]\n",
      " [ 2.3355 -0.6645  1.6355 -1.0645]\n",
      " [ 2.9355 -0.2645  1.8355 -1.1645]\n",
      " [ 3.0355 -0.4645  2.0355 -1.6645]\n",
      " [ 4.2355  0.3355  3.2355 -1.2645]\n",
      " [ 4.2355 -0.8645  3.4355 -1.1645]\n",
      " [ 2.5355 -1.2645  1.5355 -1.9645]\n",
      " [ 3.4355 -0.2645  2.2355 -1.1645]\n",
      " [ 2.1355 -0.6645  1.4355 -1.4645]\n",
      " [ 4.2355 -0.6645  3.2355 -1.4645]\n",
      " [ 2.8355 -0.7645  1.4355 -1.6645]\n",
      " [ 3.2355 -0.1645  2.2355 -1.3645]\n",
      " [ 3.7355 -0.2645  2.5355 -1.6645]\n",
      " [ 2.7355 -0.6645  1.3355 -1.6645]\n",
      " [ 2.6355 -0.4645  1.4355 -1.6645]\n",
      " [ 2.9355 -0.6645  2.1355 -1.3645]\n",
      " [ 3.7355 -0.4645  2.3355 -1.8645]\n",
      " [ 3.9355 -0.6645  2.6355 -1.5645]\n",
      " [ 4.4355  0.3355  2.9355 -1.4645]\n",
      " [ 2.9355 -0.6645  2.1355 -1.2645]\n",
      " [ 2.8355 -0.6645  1.6355 -1.9645]\n",
      " [ 2.6355 -0.8645  2.1355 -2.0645]\n",
      " [ 4.2355 -0.4645  2.6355 -1.1645]\n",
      " [ 2.8355 -0.0645  2.1355 -1.0645]\n",
      " [ 2.9355 -0.3645  2.0355 -1.6645]\n",
      " [ 2.5355 -0.4645  1.3355 -1.6645]\n",
      " [ 3.4355 -0.3645  1.9355 -1.3645]\n",
      " [ 3.2355 -0.3645  2.1355 -1.0645]\n",
      " [ 3.4355 -0.3645  1.6355 -1.1645]\n",
      " [ 2.3355 -0.7645  1.6355 -1.5645]\n",
      " [ 3.3355 -0.2645  2.4355 -1.1645]\n",
      " [ 3.2355 -0.1645  2.2355 -0.9645]\n",
      " [ 3.2355 -0.4645  1.7355 -1.1645]\n",
      " [ 2.8355 -0.9645  1.5355 -1.5645]\n",
      " [ 3.0355 -0.4645  1.7355 -1.4645]\n",
      " [ 2.7355 -0.0645  1.9355 -1.1645]\n",
      " [ 2.4355 -0.4645  1.6355 -1.6645]]\n",
      "cov is : [[ 0.68569351 -0.042434    1.27431544  0.51627069]\n",
      " [-0.042434    0.18997942 -0.32965638 -0.12163937]\n",
      " [ 1.27431544 -0.32965638  3.11627785  1.2956094 ]\n",
      " [ 0.51627069 -0.12163937  1.2956094   0.58100626]]\n",
      "eigenvalues are : [[ 0.36138659 -0.65658877 -0.58202985  0.31548719]\n",
      " [-0.08452251 -0.73016143  0.59791083 -0.3197231 ]\n",
      " [ 0.85667061  0.17337266  0.07623608 -0.47983899]\n",
      " [ 0.3582892   0.07548102  0.54583143  0.75365743]]\n",
      "eigenvectos before is  [4.22824171 0.24267075 0.0782095  0.02383509]\n",
      "sorted index is [[1 0 2 3]\n",
      " [3 2 1 0]\n",
      " [1 3 0 2]\n",
      " [1 2 3 0]]\n",
      "eigenvectos after is  [[0.24267075 4.22824171 0.0782095  0.02383509]\n",
      " [0.02383509 0.0782095  0.24267075 4.22824171]\n",
      " [0.24267075 0.02383509 4.22824171 0.0782095 ]\n",
      " [0.24267075 0.0782095  0.02383509 4.22824171]]\n",
      "component is :  [[0.24267075 4.22824171 0.0782095  0.02383509]\n",
      " [0.02383509 0.0782095  0.24267075 4.22824171]]\n"
     ]
    }
   ],
   "source": [
    "pca.fit(x)"
   ]
  },
  {
   "cell_type": "code",
   "execution_count": 28,
   "metadata": {},
   "outputs": [],
   "source": [
    "projected_x = pca.transform(x)"
   ]
  },
  {
   "cell_type": "code",
   "execution_count": 29,
   "metadata": {},
   "outputs": [
    {
     "data": {
      "text/plain": [
       "array([[  0.30771741, -14.26233008],\n",
       "       [ -1.85493759, -14.30620185],\n",
       "       [ -1.06564435, -14.31959404],\n",
       "       [ -1.49709369, -14.28126435],\n",
       "       [  0.70627451, -14.25689264],\n",
       "       [  2.10004519, -13.30544618],\n",
       "       [ -0.23405862, -13.8592444 ],\n",
       "       [ -0.13155288, -14.24826746],\n",
       "       [ -2.39909713, -14.32594034],\n",
       "       [ -1.42667598, -14.69693799],\n",
       "       [  1.23398793, -14.21527057],\n",
       "       [ -0.17226608, -14.2287674 ],\n",
       "       [ -1.88158817, -14.73140953],\n",
       "       [ -2.0263864 , -14.8161283 ],\n",
       "       [  2.57606589, -14.25507491],\n",
       "       [  4.27132537, -13.30772505],\n",
       "       [  2.06876139, -13.40251448],\n",
       "       [  0.31010092, -13.83950591],\n",
       "       [  1.74763873, -13.72894078],\n",
       "       [  1.58639439, -13.79177598],\n",
       "       [ -0.01884268, -14.19019927],\n",
       "       [  1.16595372, -13.37677276],\n",
       "       [  0.57792241, -14.36349497],\n",
       "       [ -0.50731755, -12.93669824],\n",
       "       [ -0.14880323, -14.15596618],\n",
       "       [ -1.81502861, -14.25528419],\n",
       "       [ -0.11896491, -13.37835205],\n",
       "       [  0.33980544, -14.23567949],\n",
       "       [ -0.09083968, -14.26776752],\n",
       "       [ -1.0421815 , -14.24679281],\n",
       "       [ -1.44073859, -14.25223025],\n",
       "       [ -0.02971756, -13.39308508],\n",
       "       [  2.87436695, -14.61157796],\n",
       "       [  3.36455491, -14.19804939],\n",
       "       [ -1.42429247, -14.27411382],\n",
       "       [ -1.00066407, -14.33671059],\n",
       "       [  0.39696476, -14.27706311],\n",
       "       [  0.67962393, -14.68210032],\n",
       "       [ -1.98409391, -14.34238647],\n",
       "       [ -0.10728581, -14.24588395],\n",
       "       [  0.2780129 , -13.86615649],\n",
       "       [ -4.91721252, -13.97192544],\n",
       "       [ -1.13844557, -14.32674457],\n",
       "       [  0.30862628, -12.52488275],\n",
       "       [  1.6200617 , -13.27188351],\n",
       "       [ -1.87682115, -13.88576118],\n",
       "       [  1.59183183, -14.19033308],\n",
       "       [ -1.08209047, -14.29771047],\n",
       "       [  1.20972086, -14.21765408],\n",
       "       [ -0.562198  , -14.28035549],\n",
       "       [ -0.21298721,  -8.36580273],\n",
       "       [ -0.37184805,  -8.00581377],\n",
       "       [ -0.64205305,  -7.90464887],\n",
       "       [ -4.43954103,  -9.06463762],\n",
       "       [ -2.03105671,  -8.01044699],\n",
       "       [ -2.23778128,  -8.89943048],\n",
       "       [  0.04473445,  -7.52901801],\n",
       "       [ -4.22421649, -10.50945976],\n",
       "       [ -1.58873248,  -8.84589087],\n",
       "       [ -2.82648301,  -8.64194725],\n",
       "       [ -5.87560419, -10.4898259 ],\n",
       "       [ -1.36229462,  -8.10617444],\n",
       "       [ -4.74818036, -10.32901353],\n",
       "       [ -1.6998634 ,  -8.41071717],\n",
       "       [ -1.90961273,  -9.11239671],\n",
       "       [ -0.73207546,  -8.45357544],\n",
       "       [ -1.41163299,  -8.04052374],\n",
       "       [ -2.6747727 , -10.27040873],\n",
       "       [ -4.64862391,  -8.08879029],\n",
       "       [ -3.58221358,  -9.91652762],\n",
       "       [ -0.46257005,  -6.67645758],\n",
       "       [ -2.17981773,  -9.01123181],\n",
       "       [ -3.32460052,  -7.96587563],\n",
       "       [ -2.12745459,  -9.26418646],\n",
       "       [ -1.66072948,  -8.92345911],\n",
       "       [ -1.1791667 ,  -8.4637799 ],\n",
       "       [ -1.9449971 ,  -8.37758648],\n",
       "       [ -1.1008234 ,  -7.04732143],\n",
       "       [ -1.73738886,  -8.03881066],\n",
       "       [ -3.16878965, -10.42621564],\n",
       "       [ -4.03712578,  -9.95099916],\n",
       "       [ -4.04733024, -10.3980904 ],\n",
       "       [ -2.68564758,  -9.47329454],\n",
       "       [ -2.533728  ,  -7.48602594],\n",
       "       [ -1.46016714,  -8.04529076],\n",
       "       [  0.3791155 ,  -7.57688174],\n",
       "       [ -0.7062291 ,  -7.95795004],\n",
       "       [ -4.21412063,  -8.94850124],\n",
       "       [ -1.44768381,  -8.98324038],\n",
       "       [ -3.59389269,  -9.04899572],\n",
       "       [ -3.14216823,  -9.36693064],\n",
       "       [ -1.28486018,  -8.42716329],\n",
       "       [ -3.1006508 ,  -9.45684841],\n",
       "       [ -4.62277358, -10.5148972 ],\n",
       "       [ -2.70833537,  -8.98243616],\n",
       "       [ -1.4179793 ,  -9.37941397],\n",
       "       [ -1.83841996,  -8.96441075],\n",
       "       [ -1.70926363,  -8.92822613],\n",
       "       [ -3.77393751, -10.14684884],\n",
       "       [ -2.26906508,  -8.99649877],\n",
       "       [  0.16785839,  -3.4081285 ],\n",
       "       [ -2.57511162,  -6.22232044],\n",
       "       [ -0.92383252,  -5.12808703],\n",
       "       [ -1.57140666,  -6.49624979],\n",
       "       [ -1.0748724 ,  -4.74383099],\n",
       "       [ -0.74775049,  -4.94629996],\n",
       "       [ -3.69085635,  -7.25066472],\n",
       "       [ -1.27398926,  -6.30254518],\n",
       "       [ -3.14999315,  -6.46946541],\n",
       "       [  1.66255552,  -3.33894699],\n",
       "       [ -0.28873773,  -5.74370696],\n",
       "       [ -2.41386727,  -6.15948524],\n",
       "       [ -1.02791754,  -5.23230586],\n",
       "       [ -3.45046447,  -5.84178876],\n",
       "       [ -2.1403699 ,  -4.10037864],\n",
       "       [ -0.29021238,  -4.42908381],\n",
       "       [ -1.10786929,  -6.5079289 ],\n",
       "       [  2.66931441,  -4.43425761],\n",
       "       [ -2.38655023,  -4.05675069],\n",
       "       [ -4.65805331,  -7.97222193],\n",
       "       [ -0.13759321,  -4.32009796],\n",
       "       [ -2.21407999,  -5.84497649],\n",
       "       [ -1.56369432,  -5.35811545],\n",
       "       [ -2.47180165,  -6.68176122],\n",
       "       [  0.2319298 ,  -5.16269237],\n",
       "       [ -0.05324668,  -6.35426706],\n",
       "       [ -2.08106551,  -6.70059085],\n",
       "       [ -1.25186329,  -6.66306539],\n",
       "       [ -1.96281323,  -5.23321472],\n",
       "       [ -0.91930394,  -7.26409145],\n",
       "       [ -1.68580475,  -5.9336926 ],\n",
       "       [  2.68961869,  -5.34794016],\n",
       "       [ -1.96042972,  -4.81039055],\n",
       "       [ -2.04048611,  -7.89387863],\n",
       "       [ -2.89794736,  -8.21577635],\n",
       "       [ -0.75782115,  -4.21960349],\n",
       "       [  0.55701525,  -3.92020002],\n",
       "       [ -0.7093122 ,  -6.50249146],\n",
       "       [ -1.28395132,  -6.68971597],\n",
       "       [ -0.58864724,  -5.24636848],\n",
       "       [ -0.61438897,  -3.93412883],\n",
       "       [ -0.60734308,  -4.47352136],\n",
       "       [ -2.57511162,  -6.22232044],\n",
       "       [ -0.14621838,  -4.27394732],\n",
       "       [  0.24146383,  -3.47139569],\n",
       "       [ -1.07088045,  -4.46184225],\n",
       "       [ -3.30724554,  -6.25031187],\n",
       "       [ -1.12656512,  -5.73508178],\n",
       "       [  0.51472276,  -4.39394185],\n",
       "       [ -1.28475554,  -6.61929826]])"
      ]
     },
     "execution_count": 29,
     "metadata": {},
     "output_type": "execute_result"
    }
   ],
   "source": [
    "projected_x"
   ]
  },
  {
   "cell_type": "code",
   "execution_count": 30,
   "metadata": {},
   "outputs": [
    {
     "name": "stdout",
     "output_type": "stream",
     "text": [
      "shape of x : (150, 4)\n"
     ]
    }
   ],
   "source": [
    "print(\"shape of x :\",x.shape)"
   ]
  },
  {
   "cell_type": "code",
   "execution_count": 31,
   "metadata": {},
   "outputs": [
    {
     "name": "stdout",
     "output_type": "stream",
     "text": [
      "shape of transformed x : (150, 2)\n"
     ]
    }
   ],
   "source": [
    "print(\"shape of transformed x :\",projected_x.shape)"
   ]
  },
  {
   "cell_type": "code",
   "execution_count": 34,
   "metadata": {
    "scrolled": true
   },
   "outputs": [
    {
     "data": {
      "text/plain": [
       "(array([ 0.30771741, -1.85493759, -1.06564435, -1.49709369,  0.70627451,\n",
       "         2.10004519, -0.23405862, -0.13155288, -2.39909713, -1.42667598,\n",
       "         1.23398793, -0.17226608, -1.88158817, -2.0263864 ,  2.57606589,\n",
       "         4.27132537,  2.06876139,  0.31010092,  1.74763873,  1.58639439,\n",
       "        -0.01884268,  1.16595372,  0.57792241, -0.50731755, -0.14880323,\n",
       "        -1.81502861, -0.11896491,  0.33980544, -0.09083968, -1.0421815 ,\n",
       "        -1.44073859, -0.02971756,  2.87436695,  3.36455491, -1.42429247,\n",
       "        -1.00066407,  0.39696476,  0.67962393, -1.98409391, -0.10728581,\n",
       "         0.2780129 , -4.91721252, -1.13844557,  0.30862628,  1.6200617 ,\n",
       "        -1.87682115,  1.59183183, -1.08209047,  1.20972086, -0.562198  ,\n",
       "        -0.21298721, -0.37184805, -0.64205305, -4.43954103, -2.03105671,\n",
       "        -2.23778128,  0.04473445, -4.22421649, -1.58873248, -2.82648301,\n",
       "        -5.87560419, -1.36229462, -4.74818036, -1.6998634 , -1.90961273,\n",
       "        -0.73207546, -1.41163299, -2.6747727 , -4.64862391, -3.58221358,\n",
       "        -0.46257005, -2.17981773, -3.32460052, -2.12745459, -1.66072948,\n",
       "        -1.1791667 , -1.9449971 , -1.1008234 , -1.73738886, -3.16878965,\n",
       "        -4.03712578, -4.04733024, -2.68564758, -2.533728  , -1.46016714,\n",
       "         0.3791155 , -0.7062291 , -4.21412063, -1.44768381, -3.59389269,\n",
       "        -3.14216823, -1.28486018, -3.1006508 , -4.62277358, -2.70833537,\n",
       "        -1.4179793 , -1.83841996, -1.70926363, -3.77393751, -2.26906508,\n",
       "         0.16785839, -2.57511162, -0.92383252, -1.57140666, -1.0748724 ,\n",
       "        -0.74775049, -3.69085635, -1.27398926, -3.14999315,  1.66255552,\n",
       "        -0.28873773, -2.41386727, -1.02791754, -3.45046447, -2.1403699 ,\n",
       "        -0.29021238, -1.10786929,  2.66931441, -2.38655023, -4.65805331,\n",
       "        -0.13759321, -2.21407999, -1.56369432, -2.47180165,  0.2319298 ,\n",
       "        -0.05324668, -2.08106551, -1.25186329, -1.96281323, -0.91930394,\n",
       "        -1.68580475,  2.68961869, -1.96042972, -2.04048611, -2.89794736,\n",
       "        -0.75782115,  0.55701525, -0.7093122 , -1.28395132, -0.58864724,\n",
       "        -0.61438897, -0.60734308, -2.57511162, -0.14621838,  0.24146383,\n",
       "        -1.07088045, -3.30724554, -1.12656512,  0.51472276, -1.28475554]),)"
      ]
     },
     "execution_count": 34,
     "metadata": {},
     "output_type": "execute_result"
    }
   ],
   "source": [
    "x1 = projected_x[:,0]\n",
    "x2 = projected_x[:,1]\n",
    "x1,"
   ]
  },
  {
   "cell_type": "code",
   "execution_count": 35,
   "metadata": {
    "scrolled": true
   },
   "outputs": [
    {
     "data": {
      "text/plain": [
       "array([-14.26233008, -14.30620185, -14.31959404, -14.28126435,\n",
       "       -14.25689264, -13.30544618, -13.8592444 , -14.24826746,\n",
       "       -14.32594034, -14.69693799, -14.21527057, -14.2287674 ,\n",
       "       -14.73140953, -14.8161283 , -14.25507491, -13.30772505,\n",
       "       -13.40251448, -13.83950591, -13.72894078, -13.79177598,\n",
       "       -14.19019927, -13.37677276, -14.36349497, -12.93669824,\n",
       "       -14.15596618, -14.25528419, -13.37835205, -14.23567949,\n",
       "       -14.26776752, -14.24679281, -14.25223025, -13.39308508,\n",
       "       -14.61157796, -14.19804939, -14.27411382, -14.33671059,\n",
       "       -14.27706311, -14.68210032, -14.34238647, -14.24588395,\n",
       "       -13.86615649, -13.97192544, -14.32674457, -12.52488275,\n",
       "       -13.27188351, -13.88576118, -14.19033308, -14.29771047,\n",
       "       -14.21765408, -14.28035549,  -8.36580273,  -8.00581377,\n",
       "        -7.90464887,  -9.06463762,  -8.01044699,  -8.89943048,\n",
       "        -7.52901801, -10.50945976,  -8.84589087,  -8.64194725,\n",
       "       -10.4898259 ,  -8.10617444, -10.32901353,  -8.41071717,\n",
       "        -9.11239671,  -8.45357544,  -8.04052374, -10.27040873,\n",
       "        -8.08879029,  -9.91652762,  -6.67645758,  -9.01123181,\n",
       "        -7.96587563,  -9.26418646,  -8.92345911,  -8.4637799 ,\n",
       "        -8.37758648,  -7.04732143,  -8.03881066, -10.42621564,\n",
       "        -9.95099916, -10.3980904 ,  -9.47329454,  -7.48602594,\n",
       "        -8.04529076,  -7.57688174,  -7.95795004,  -8.94850124,\n",
       "        -8.98324038,  -9.04899572,  -9.36693064,  -8.42716329,\n",
       "        -9.45684841, -10.5148972 ,  -8.98243616,  -9.37941397,\n",
       "        -8.96441075,  -8.92822613, -10.14684884,  -8.99649877,\n",
       "        -3.4081285 ,  -6.22232044,  -5.12808703,  -6.49624979,\n",
       "        -4.74383099,  -4.94629996,  -7.25066472,  -6.30254518,\n",
       "        -6.46946541,  -3.33894699,  -5.74370696,  -6.15948524,\n",
       "        -5.23230586,  -5.84178876,  -4.10037864,  -4.42908381,\n",
       "        -6.5079289 ,  -4.43425761,  -4.05675069,  -7.97222193,\n",
       "        -4.32009796,  -5.84497649,  -5.35811545,  -6.68176122,\n",
       "        -5.16269237,  -6.35426706,  -6.70059085,  -6.66306539,\n",
       "        -5.23321472,  -7.26409145,  -5.9336926 ,  -5.34794016,\n",
       "        -4.81039055,  -7.89387863,  -8.21577635,  -4.21960349,\n",
       "        -3.92020002,  -6.50249146,  -6.68971597,  -5.24636848,\n",
       "        -3.93412883,  -4.47352136,  -6.22232044,  -4.27394732,\n",
       "        -3.47139569,  -4.46184225,  -6.25031187,  -5.73508178,\n",
       "        -4.39394185,  -6.61929826])"
      ]
     },
     "execution_count": 35,
     "metadata": {},
     "output_type": "execute_result"
    }
   ],
   "source": [
    "x2"
   ]
  },
  {
   "cell_type": "code",
   "execution_count": 37,
   "metadata": {},
   "outputs": [
    {
     "name": "stderr",
     "output_type": "stream",
     "text": [
      "C:\\Users\\dhruv\\AppData\\Local\\Temp\\ipykernel_23412\\3796636180.py:1: MatplotlibDeprecationWarning: The get_cmap function was deprecated in Matplotlib 3.7 and will be removed two minor releases later. Use ``matplotlib.colormaps[name]`` or ``matplotlib.colormaps.get_cmap(obj)`` instead.\n",
      "  plt.scatter(x1,x2, c=y, edgecolors=\"none\", alpha=0.8, cmap=plt.cm.get_cmap(\"viridis\",3))\n"
     ]
    },
    {
     "data": {
      "image/png": "[encoded data removed]",
      "text/plain": [
       "<Figure size 640x480 with 2 Axes>"
      ]
     },
     "metadata": {},
     "output_type": "display_data"
    }
   ],
   "source": [
    "plt.scatter(x1,x2, c=y, edgecolors=\"none\", alpha=0.8, cmap=plt.cm.get_cmap(\"viridis\",3))\n",
    "plt.xlabel(\"pronciple component 1 \")\n",
    "plt.ylabel(\"principle component 2\")\n",
    "plt.colorbar()\n",
    "plt.show()"
   ]
  },
  {
   "cell_type": "code",
   "execution_count": null,
   "metadata": {},
   "outputs": [],
   "source": []
  },
  {
   "cell_type": "code",
   "execution_count": null,
   "metadata": {},
   "outputs": [],
   "source": []
  },
  {
   "cell_type": "code",
   "execution_count": null,
   "metadata": {},
   "outputs": [],
   "source": []
  },
  {
   "cell_type": "code",
   "execution_count": null,
   "metadata": {},
   "outputs": [],
   "source": []
  },
  {
   "cell_type": "code",
   "execution_count": null,
   "metadata": {},
   "outputs": [],
   "source": []
  },
  {
   "cell_type": "code",
   "execution_count": null,
   "metadata": {},
   "outputs": [],
   "source": []
  },
  {
   "cell_type": "code",
   "execution_count": null,
   "metadata": {},
   "outputs": [],
   "source": []
  },
  {
   "cell_type": "code",
   "execution_count": 38,
   "metadata": {},
   "outputs": [],
   "source": [
    "from sklearn.decomposition import PCA\n",
    "import numpy as np\n",
    "import matplotlib.pyplot as plt"
   ]
  },
  {
   "cell_type": "code",
   "execution_count": 39,
   "metadata": {},
   "outputs": [],
   "source": [
    "## lets generate the data "
   ]
  },
  {
   "cell_type": "code",
   "execution_count": 40,
   "metadata": {},
   "outputs": [
    {
     "data": {
      "text/plain": [
       "array([[ 2.53775265e-01,  1.85505096e+00, -6.04592066e-02,\n",
       "        -1.93492193e+00],\n",
       "       [ 4.04916653e-01,  2.73962169e-01,  7.04885821e-01,\n",
       "        -2.77111211e-01],\n",
       "       [-1.41162692e+00, -2.88549276e+00,  9.52790579e-02,\n",
       "        -3.08881591e-02],\n",
       "       [ 2.66100221e+00,  3.28704011e-01, -4.31951479e-01,\n",
       "        -1.55924864e+00],\n",
       "       [-4.70608561e-01, -1.41674711e+00, -1.18514607e+00,\n",
       "        -1.00867222e+00],\n",
       "       [ 1.23450589e+00,  1.58953588e+00, -1.19072219e+00,\n",
       "        -1.86884242e-01],\n",
       "       [-1.42420084e+00, -1.10790702e+00, -1.01505785e+00,\n",
       "        -3.48171402e-01],\n",
       "       [ 6.75530830e-01,  1.45764788e+00, -3.52155609e-03,\n",
       "        -3.93172495e-01],\n",
       "       [-1.63436989e+00, -1.02428736e+00, -4.47229647e-02,\n",
       "        -1.72271293e+00],\n",
       "       [ 2.54353716e+00, -7.64671592e-01, -6.93214379e-01,\n",
       "         1.15309783e+00],\n",
       "       [ 9.81117036e-01,  6.92011966e-03, -6.22202703e-01,\n",
       "        -9.48167091e-01],\n",
       "       [-7.07360454e-01,  1.12467324e+00,  5.21092000e-02,\n",
       "         1.25085952e+00],\n",
       "       [ 3.50030689e-01,  9.86496017e-01,  3.00798033e-01,\n",
       "        -2.27079707e-01],\n",
       "       [ 8.35713677e-01, -7.91531939e-01,  1.61209092e+00,\n",
       "        -7.56353359e-01],\n",
       "       [ 2.65161925e-01,  7.72661826e-01, -9.38132595e-01,\n",
       "        -1.08532216e+00],\n",
       "       [ 6.98846916e-01, -1.56495955e-01, -3.88529686e-01,\n",
       "         7.28243631e-02],\n",
       "       [-1.28252024e+00, -1.55854093e-01,  1.83993942e+00,\n",
       "         8.92978508e-01],\n",
       "       [ 2.13179362e-01, -1.60041704e+00, -1.14040534e+00,\n",
       "         6.72430161e-01],\n",
       "       [-1.28436526e+00, -4.17031620e-02,  4.02681719e-02,\n",
       "        -2.90935137e-01],\n",
       "       [ 1.05416292e-01, -1.21372262e+00,  1.82294493e+00,\n",
       "         2.85690382e-01],\n",
       "       [ 1.43303773e+00,  4.27704538e-01,  1.86572880e+00,\n",
       "         1.20481430e+00],\n",
       "       [ 1.06197950e+00,  1.42609475e+00, -9.40128392e-01,\n",
       "         5.30010516e-01],\n",
       "       [ 2.04619555e+00,  9.27793677e-01, -2.31505039e+00,\n",
       "        -2.58402169e-01],\n",
       "       [ 6.50422229e-01,  8.06739540e-01,  2.54627429e+00,\n",
       "        -2.84417429e-01],\n",
       "       [ 7.26723476e-01, -1.13037088e+00, -5.06365730e-01,\n",
       "        -7.79461927e-01],\n",
       "       [-1.60670382e+00,  2.47607496e-01, -1.18154281e-01,\n",
       "        -9.23647874e-01],\n",
       "       [-9.10118179e-01,  1.41535394e+00,  3.31076351e-01,\n",
       "         6.37183276e-01],\n",
       "       [-1.21171279e-01,  2.35336459e-01, -2.99054019e-01,\n",
       "         6.09464113e-01],\n",
       "       [-2.06154026e-01,  7.23376849e-02,  1.01769558e+00,\n",
       "        -2.01060761e-01],\n",
       "       [-1.30932128e+00,  9.08501711e-01, -7.37279007e-01,\n",
       "         1.21462701e+00],\n",
       "       [-2.41048761e-01, -6.63426192e-02,  7.19930934e-01,\n",
       "         1.62722422e+00],\n",
       "       [ 2.07633562e-01,  1.87543756e-01,  3.00781461e-01,\n",
       "         6.47567998e-01],\n",
       "       [ 1.89044571e-01,  7.78626547e-01,  1.01614148e+00,\n",
       "        -2.28522017e+00],\n",
       "       [-2.47000124e+00,  3.75306334e-01, -1.44916723e+00,\n",
       "        -5.28405427e-01],\n",
       "       [ 6.39704752e-01, -3.98448740e-02,  1.30248136e+00,\n",
       "         1.60111049e+00],\n",
       "       [-2.56771720e-01,  7.88212127e-01, -2.88558827e+00,\n",
       "         6.46468537e-01],\n",
       "       [-7.92085511e-01, -2.47919467e-02,  1.14917400e+00,\n",
       "        -3.07667702e-01],\n",
       "       [-3.17732801e-01,  1.75689802e-02, -8.91088237e-01,\n",
       "        -7.65857642e-01],\n",
       "       [ 1.43147442e+00, -2.34861237e-01,  3.20430808e-01,\n",
       "        -1.57913291e+00],\n",
       "       [ 7.93767562e-01,  1.47975529e-01, -1.75979391e+00,\n",
       "         5.32469337e-01],\n",
       "       [ 1.87430516e-01,  4.38355717e-01,  1.40347120e-02,\n",
       "         3.03365430e-01],\n",
       "       [-1.87340801e+00, -8.76781607e-02, -2.44773048e+00,\n",
       "        -8.07649064e-01],\n",
       "       [-7.83645146e-02,  1.51457723e+00, -5.65119094e-01,\n",
       "         1.67185674e-01],\n",
       "       [ 4.74376471e-01, -1.12834353e-01,  4.58980330e-01,\n",
       "         9.13042775e-01],\n",
       "       [ 2.75535305e-01, -1.20915202e+00, -1.52631880e+00,\n",
       "        -8.98093968e-01],\n",
       "       [ 9.70566626e-02, -1.17446903e+00,  6.95531831e-01,\n",
       "        -2.10680122e-01],\n",
       "       [-1.85259456e+00, -1.29614557e+00, -1.89602638e-01,\n",
       "        -1.42226221e-01],\n",
       "       [-4.22166599e-01, -8.61968402e-02,  4.24115868e-01,\n",
       "        -7.23206898e-01],\n",
       "       [-1.19415053e+00,  1.08252688e-02, -1.07420773e+00,\n",
       "        -3.36225386e-01],\n",
       "       [ 9.18410667e-01, -1.33550667e+00,  3.63635602e-01,\n",
       "        -1.66305483e+00],\n",
       "       [ 7.64555603e-01,  1.73719587e+00,  3.12431289e+00,\n",
       "         2.15837835e-01],\n",
       "       [-3.54068163e-01,  1.17911374e+00, -1.62864195e+00,\n",
       "        -2.83558293e+00],\n",
       "       [ 5.96534645e-01, -2.02796659e+00,  3.86347768e-01,\n",
       "        -4.52857177e-03],\n",
       "       [ 7.96293777e-02,  2.99927949e-01,  1.06756672e+00,\n",
       "        -3.31472963e-01],\n",
       "       [ 1.41368170e+00,  6.03402536e-01, -9.63554459e-01,\n",
       "         4.12523639e-02],\n",
       "       [ 9.71904357e-03,  2.00674259e-01, -3.08861540e-01,\n",
       "        -3.68276018e-01],\n",
       "       [ 6.44135424e-01, -1.46194654e+00,  2.23144193e-01,\n",
       "         3.47329999e-02],\n",
       "       [-1.47184383e-01,  1.18373613e+00,  9.15553127e-01,\n",
       "         8.68380571e-01],\n",
       "       [-3.10935589e-02,  6.92095332e-01,  1.03907770e+00,\n",
       "         6.85028592e-01],\n",
       "       [-2.49056147e-01, -5.97638175e-01, -1.01189908e+00,\n",
       "         6.21190463e-01],\n",
       "       [ 1.80907469e+00,  3.12421211e-01, -2.16450548e+00,\n",
       "        -1.37522880e-01],\n",
       "       [ 1.70619572e+00,  5.46805133e-01,  1.00782675e+00,\n",
       "         1.14750805e+00],\n",
       "       [-2.47104994e+00, -1.94390091e+00,  3.65404561e-01,\n",
       "         1.03608542e+00],\n",
       "       [-2.48893460e-01,  1.53082750e+00, -3.01070398e-01,\n",
       "        -1.82674413e+00],\n",
       "       [ 3.14740801e-01, -6.68664323e-02, -8.56267061e-01,\n",
       "        -1.30504067e-01],\n",
       "       [-1.40599382e+00,  6.17337745e-01, -2.69619090e-01,\n",
       "         8.68743021e-01],\n",
       "       [-8.46208699e-01,  1.39612309e+00, -1.90904171e-01,\n",
       "         5.06367680e-01],\n",
       "       [ 1.80879325e+00, -1.52978340e+00,  8.80383261e-01,\n",
       "        -2.28502906e-01],\n",
       "       [ 9.38632342e-01, -6.46225726e-01, -4.32249375e-01,\n",
       "         2.71576326e-01],\n",
       "       [ 2.66883200e-01, -1.41444839e+00,  4.02162142e-01,\n",
       "        -2.19462375e-01],\n",
       "       [-9.85752377e-01,  9.65231008e-01, -1.45677877e+00,\n",
       "        -9.60042201e-02],\n",
       "       [ 3.40552304e-01,  3.00507526e-01,  6.51178357e-01,\n",
       "         1.24091016e+00],\n",
       "       [ 7.14643992e-01,  4.66280255e-01,  3.66980586e-01,\n",
       "         4.36878194e-01],\n",
       "       [-1.04289282e+00, -2.59551453e-02,  4.07714991e-01,\n",
       "         5.30073671e-01],\n",
       "       [-6.09479919e-03,  8.08456488e-01, -3.42817390e-01,\n",
       "         4.75158597e-01],\n",
       "       [ 1.34282011e+00,  1.76361774e+00, -2.62815476e-01,\n",
       "         1.85848010e+00],\n",
       "       [-1.46774896e+00, -2.79822651e-01, -1.98267136e-01,\n",
       "         8.91539556e-01],\n",
       "       [-5.59227536e-01,  7.58687465e-01, -9.02679462e-01,\n",
       "         1.02706783e+00],\n",
       "       [-4.51844196e-02, -8.19524469e-02,  1.41452113e+00,\n",
       "        -2.46371895e-04],\n",
       "       [ 7.61214282e-01,  1.82775797e+00, -2.57317316e-01,\n",
       "        -8.42023958e-01],\n",
       "       [ 1.43765287e+00, -2.59811218e-01, -1.04251232e+00,\n",
       "         7.24072662e-01],\n",
       "       [-8.64616754e-02, -1.57057931e+00, -1.81331347e+00,\n",
       "        -1.10431904e+00],\n",
       "       [-2.48285078e-01,  2.63994557e-01, -6.10131218e-01,\n",
       "        -1.34490176e+00],\n",
       "       [-1.60286786e-01, -7.09849490e-01, -1.07789293e+00,\n",
       "         7.79629173e-01],\n",
       "       [ 2.00502173e-01,  4.67781703e-01, -5.04620759e-02,\n",
       "         6.10695419e-01],\n",
       "       [-2.14210761e-01, -2.81450149e+00,  1.05181903e+00,\n",
       "        -9.33487171e-01],\n",
       "       [ 2.08405877e-01, -5.35748454e-01, -6.04711302e-01,\n",
       "         1.27838000e+00],\n",
       "       [-9.33718608e-01,  2.20933619e-02, -8.55590024e-01,\n",
       "         1.26981808e-01],\n",
       "       [ 1.63728172e+00, -1.30672361e+00, -4.02053216e-01,\n",
       "        -3.50711994e-01],\n",
       "       [-1.38374959e+00, -5.94493865e-01,  1.17629228e-01,\n",
       "        -5.40095596e-01],\n",
       "       [ 6.65734200e-01, -3.50951890e-02, -8.58236399e-01,\n",
       "        -1.77781039e+00],\n",
       "       [ 9.27673180e-01,  6.13340816e-01, -2.61417020e-02,\n",
       "        -8.11773701e-01],\n",
       "       [ 1.25066035e+00, -1.50083419e+00, -2.74951023e-01,\n",
       "        -1.50881663e-01],\n",
       "       [-1.55727211e+00,  6.98064252e-01,  1.45051141e-01,\n",
       "        -5.87637603e-01],\n",
       "       [ 6.59161610e-01,  6.49818023e-01, -4.04791583e-01,\n",
       "        -1.46344637e+00],\n",
       "       [ 8.53590825e-01,  2.93879591e-02,  1.70150619e+00,\n",
       "         1.75692614e-01],\n",
       "       [ 4.53417297e-01,  4.99257977e-01, -1.82074763e+00,\n",
       "        -1.11814972e+00],\n",
       "       [-3.64723495e-01, -2.74757893e+00,  5.42020664e-03,\n",
       "        -3.01796267e-01],\n",
       "       [-9.27350233e-01,  1.17223689e-01,  9.76932184e-01,\n",
       "         4.76103984e-01],\n",
       "       [ 2.34514326e+00, -2.07724792e-01,  1.23585977e+00,\n",
       "         1.10317645e+00]])"
      ]
     },
     "execution_count": 40,
     "metadata": {},
     "output_type": "execute_result"
    }
   ],
   "source": [
    "x = np.random.normal(0,1,(100,4))\n",
    "x"
   ]
  },
  {
   "cell_type": "code",
   "execution_count": 41,
   "metadata": {},
   "outputs": [
    {
     "data": {
      "text/plain": [
       "(100, 4)"
      ]
     },
     "execution_count": 41,
     "metadata": {},
     "output_type": "execute_result"
    }
   ],
   "source": [
    "x.shape"
   ]
  },
  {
   "cell_type": "code",
   "execution_count": 43,
   "metadata": {},
   "outputs": [
    {
     "data": {
      "text/plain": [
       "(100, 4)"
      ]
     },
     "execution_count": 43,
     "metadata": {},
     "output_type": "execute_result"
    }
   ],
   "source": [
    "x[:,2] = 3*x[:,0] - 2*x[:,1] + np.random.normal(0,0.1,100)\n",
    "x[:,3] = 1.5*x[:,0] - 0.5*x[:,1] + np.random.normal(0,0.1,100)\n",
    "x.shape"
   ]
  },
  {
   "cell_type": "code",
   "execution_count": 44,
   "metadata": {},
   "outputs": [
    {
     "data": {
      "text/plain": [
       "array([[ 2.53775265e-01,  1.85505096e+00, -2.82620855e+00,\n",
       "        -3.73258782e-01],\n",
       "       [ 4.04916653e-01,  2.73962169e-01,  6.82654765e-01,\n",
       "         3.62489904e-01],\n",
       "       [-1.41162692e+00, -2.88549276e+00,  1.48903991e+00,\n",
       "        -8.76631414e-01],\n",
       "       [ 2.66100221e+00,  3.28704011e-01,  7.14858669e+00,\n",
       "         3.70232963e+00],\n",
       "       [-4.70608561e-01, -1.41674711e+00,  1.54170088e+00,\n",
       "        -6.90365992e-02],\n",
       "       [ 1.23450589e+00,  1.58953588e+00,  5.64765999e-01,\n",
       "         1.04355419e+00],\n",
       "       [-1.42420084e+00, -1.10790702e+00, -2.13444418e+00,\n",
       "        -1.62030974e+00],\n",
       "       [ 6.75530830e-01,  1.45764788e+00, -8.21373820e-01,\n",
       "         2.49829801e-01],\n",
       "       [-1.63436989e+00, -1.02428736e+00, -2.87351529e+00,\n",
       "        -2.10170667e+00],\n",
       "       [ 2.54353716e+00, -7.64671592e-01,  9.19587095e+00,\n",
       "         4.26141030e+00],\n",
       "       [ 9.81117036e-01,  6.92011966e-03,  3.02252939e+00,\n",
       "         1.55480173e+00],\n",
       "       [-7.07360454e-01,  1.12467324e+00, -4.29542178e+00,\n",
       "        -1.51110518e+00],\n",
       "       [ 3.50030689e-01,  9.86496017e-01, -9.48493512e-01,\n",
       "         7.73330828e-02],\n",
       "       [ 8.35713677e-01, -7.91531939e-01,  3.93523574e+00,\n",
       "         1.38601890e+00],\n",
       "       [ 2.65161925e-01,  7.72661826e-01, -7.82838197e-01,\n",
       "         3.12603622e-02],\n",
       "       [ 6.98846916e-01, -1.56495955e-01,  2.37154153e+00,\n",
       "         1.16362951e+00],\n",
       "       [-1.28252024e+00, -1.55854093e-01, -3.52260566e+00,\n",
       "        -1.91264814e+00],\n",
       "       [ 2.13179362e-01, -1.60041704e+00,  3.88171719e+00,\n",
       "         1.08807553e+00],\n",
       "       [-1.28436526e+00, -4.17031620e-02, -3.84810610e+00,\n",
       "        -1.91178041e+00],\n",
       "       [ 1.05416292e-01, -1.21372262e+00,  2.63647124e+00,\n",
       "         8.17270646e-01],\n",
       "       [ 1.43303773e+00,  4.27704538e-01,  3.53190249e+00,\n",
       "         1.75933256e+00],\n",
       "       [ 1.06197950e+00,  1.42609475e+00,  2.95238903e-01,\n",
       "         9.61908812e-01],\n",
       "       [ 2.04619555e+00,  9.27793677e-01,  4.40112003e+00,\n",
       "         2.51946336e+00],\n",
       "       [ 6.50422229e-01,  8.06739540e-01,  2.95691694e-01,\n",
       "         6.01666549e-01],\n",
       "       [ 7.26723476e-01, -1.13037088e+00,  4.37913837e+00,\n",
       "         1.53026487e+00],\n",
       "       [-1.60670382e+00,  2.47607496e-01, -5.25908654e+00,\n",
       "        -2.69442172e+00],\n",
       "       [-9.10118179e-01,  1.41535394e+00, -5.66388413e+00,\n",
       "        -1.96436744e+00],\n",
       "       [-1.21171279e-01,  2.35336459e-01, -7.27205249e-01,\n",
       "        -2.15552400e-01],\n",
       "       [-2.06154026e-01,  7.23376849e-02, -8.74722800e-01,\n",
       "        -2.13562194e-01],\n",
       "       [-1.30932128e+00,  9.08501711e-01, -5.66038618e+00,\n",
       "        -2.39262066e+00],\n",
       "       [-2.41048761e-01, -6.63426192e-02, -5.29118746e-01,\n",
       "        -2.43825988e-01],\n",
       "       [ 2.07633562e-01,  1.87543756e-01,  2.96527455e-01,\n",
       "         1.32765631e-01],\n",
       "       [ 1.89044571e-01,  7.78626547e-01, -9.92241522e-01,\n",
       "        -1.60767207e-01],\n",
       "       [-2.47000124e+00,  3.75306334e-01, -8.04308047e+00,\n",
       "        -3.72344341e+00],\n",
       "       [ 6.39704752e-01, -3.98448740e-02,  2.24329982e+00,\n",
       "         9.59334667e-01],\n",
       "       [-2.56771720e-01,  7.88212127e-01, -2.33598756e+00,\n",
       "        -6.40774195e-01],\n",
       "       [-7.92085511e-01, -2.47919467e-02, -2.30238419e+00,\n",
       "        -1.30896758e+00],\n",
       "       [-3.17732801e-01,  1.75689802e-02, -9.71030011e-01,\n",
       "        -5.39252172e-01],\n",
       "       [ 1.43147442e+00, -2.34861237e-01,  4.69216890e+00,\n",
       "         2.26108182e+00],\n",
       "       [ 7.93767562e-01,  1.47975529e-01,  1.88180626e+00,\n",
       "         9.97288858e-01],\n",
       "       [ 1.87430516e-01,  4.38355717e-01, -3.30545079e-01,\n",
       "         2.23302691e-02],\n",
       "       [-1.87340801e+00, -8.76781607e-02, -5.48235495e+00,\n",
       "        -2.75053681e+00],\n",
       "       [-7.83645146e-02,  1.51457723e+00, -3.32078429e+00,\n",
       "        -8.71075201e-01],\n",
       "       [ 4.74376471e-01, -1.12834353e-01,  1.52511454e+00,\n",
       "         7.17343739e-01],\n",
       "       [ 2.75535305e-01, -1.20915202e+00,  3.19001055e+00,\n",
       "         9.52105639e-01],\n",
       "       [ 9.70566626e-02, -1.17446903e+00,  2.55374209e+00,\n",
       "         5.50603982e-01],\n",
       "       [-1.85259456e+00, -1.29614557e+00, -2.89095122e+00,\n",
       "        -2.23594051e+00],\n",
       "       [-4.22166599e-01, -8.61968402e-02, -1.24964407e+00,\n",
       "        -7.40862476e-01],\n",
       "       [-1.19415053e+00,  1.08252688e-02, -3.62137493e+00,\n",
       "        -1.66494579e+00],\n",
       "       [ 9.18410667e-01, -1.33550667e+00,  5.53507984e+00,\n",
       "         1.80903054e+00],\n",
       "       [ 7.64555603e-01,  1.73719587e+00, -1.14202818e+00,\n",
       "         2.88771906e-01],\n",
       "       [-3.54068163e-01,  1.17911374e+00, -3.52113445e+00,\n",
       "        -8.70460477e-01],\n",
       "       [ 5.96534645e-01, -2.02796659e+00,  5.79662262e+00,\n",
       "         1.75460199e+00],\n",
       "       [ 7.96293777e-02,  2.99927949e-01, -3.76711325e-01,\n",
       "         1.59827471e-02],\n",
       "       [ 1.41368170e+00,  6.03402536e-01,  2.95105023e+00,\n",
       "         1.83682962e+00],\n",
       "       [ 9.71904357e-03,  2.00674259e-01, -4.02638821e-01,\n",
       "        -3.29342133e-02],\n",
       "       [ 6.44135424e-01, -1.46194654e+00,  4.92402534e+00,\n",
       "         1.58886462e+00],\n",
       "       [-1.47184383e-01,  1.18373613e+00, -2.75560905e+00,\n",
       "        -7.44333722e-01],\n",
       "       [-3.10935589e-02,  6.92095332e-01, -1.38979222e+00,\n",
       "        -3.30281602e-01],\n",
       "       [-2.49056147e-01, -5.97638175e-01,  6.06936880e-01,\n",
       "         2.91053413e-02],\n",
       "       [ 1.80907469e+00,  3.12421211e-01,  4.54468172e+00,\n",
       "         2.65916910e+00],\n",
       "       [ 1.70619572e+00,  5.46805133e-01,  4.22301195e+00,\n",
       "         2.30913489e+00],\n",
       "       [-2.47104994e+00, -1.94390091e+00, -3.48094786e+00,\n",
       "        -2.83465558e+00],\n",
       "       [-2.48893460e-01,  1.53082750e+00, -3.82955830e+00,\n",
       "        -1.01968164e+00],\n",
       "       [ 3.14740801e-01, -6.68664323e-02,  1.08891720e+00,\n",
       "         3.36969975e-01],\n",
       "       [-1.40599382e+00,  6.17337745e-01, -5.36459866e+00,\n",
       "        -2.31642196e+00],\n",
       "       [-8.46208699e-01,  1.39612309e+00, -5.42190868e+00,\n",
       "        -1.87125533e+00],\n",
       "       [ 1.80879325e+00, -1.52978340e+00,  8.42767984e+00,\n",
       "         3.40608911e+00],\n",
       "       [ 9.38632342e-01, -6.46225726e-01,  3.97950259e+00,\n",
       "         1.45835585e+00],\n",
       "       [ 2.66883200e-01, -1.41444839e+00,  3.60402271e+00,\n",
       "         1.14473355e+00],\n",
       "       [-9.85752377e-01,  9.65231008e-01, -4.91297573e+00,\n",
       "        -1.95055005e+00],\n",
       "       [ 3.40552304e-01,  3.00507526e-01,  3.15366094e-01,\n",
       "         4.97641149e-01],\n",
       "       [ 7.14643992e-01,  4.66280255e-01,  1.24558090e+00,\n",
       "         7.85819668e-01],\n",
       "       [-1.04289282e+00, -2.59551453e-02, -3.18274500e+00,\n",
       "        -1.59997484e+00],\n",
       "       [-6.09479919e-03,  8.08456488e-01, -1.41602080e+00,\n",
       "        -3.40022007e-01],\n",
       "       [ 1.34282011e+00,  1.76361774e+00,  4.61113974e-01,\n",
       "         1.28381495e+00],\n",
       "       [-1.46774896e+00, -2.79822651e-01, -3.79667409e+00,\n",
       "        -2.06839276e+00],\n",
       "       [-5.59227536e-01,  7.58687465e-01, -3.15955998e+00,\n",
       "        -1.26451215e+00],\n",
       "       [-4.51844196e-02, -8.19524469e-02, -5.23062415e-02,\n",
       "         2.12640368e-02],\n",
       "       [ 7.61214282e-01,  1.82775797e+00, -1.44659905e+00,\n",
       "         2.88200540e-01],\n",
       "       [ 1.43765287e+00, -2.59811218e-01,  4.95934279e+00,\n",
       "         2.30652872e+00],\n",
       "       [-8.64616754e-02, -1.57057931e+00,  2.84488278e+00,\n",
       "         7.29790863e-01],\n",
       "       [-2.48285078e-01,  2.63994557e-01, -1.38003665e+00,\n",
       "        -5.30691869e-01],\n",
       "       [-1.60286786e-01, -7.09849490e-01,  8.25145240e-01,\n",
       "         1.82552933e-01],\n",
       "       [ 2.00502173e-01,  4.67781703e-01, -3.34779950e-01,\n",
       "         6.04242911e-03],\n",
       "       [-2.14210761e-01, -2.81450149e+00,  4.91933988e+00,\n",
       "         1.21907926e+00],\n",
       "       [ 2.08405877e-01, -5.35748454e-01,  1.71570920e+00,\n",
       "         5.70441300e-01],\n",
       "       [-9.33718608e-01,  2.20933619e-02, -2.72871090e+00,\n",
       "        -1.60647580e+00],\n",
       "       [ 1.63728172e+00, -1.30672361e+00,  7.61565721e+00,\n",
       "         3.15345853e+00],\n",
       "       [-1.38374959e+00, -5.94493865e-01, -3.19009773e+00,\n",
       "        -1.84550530e+00],\n",
       "       [ 6.65734200e-01, -3.50951890e-02,  2.13512609e+00,\n",
       "         9.00810971e-01],\n",
       "       [ 9.27673180e-01,  6.13340816e-01,  1.49167980e+00,\n",
       "         1.27827984e+00],\n",
       "       [ 1.25066035e+00, -1.50083419e+00,  6.89965746e+00,\n",
       "         2.60835326e+00],\n",
       "       [-1.55727211e+00,  6.98064252e-01, -6.11560461e+00,\n",
       "        -2.79674424e+00],\n",
       "       [ 6.59161610e-01,  6.49818023e-01,  6.60366817e-01,\n",
       "         6.55328907e-01],\n",
       "       [ 8.53590825e-01,  2.93879591e-02,  2.48697726e+00,\n",
       "         1.24911404e+00],\n",
       "       [ 4.53417297e-01,  4.99257977e-01,  3.64637445e-01,\n",
       "         3.58267413e-01],\n",
       "       [-3.64723495e-01, -2.74757893e+00,  4.40786591e+00,\n",
       "         8.21224043e-01],\n",
       "       [-9.27350233e-01,  1.17223689e-01, -2.91655397e+00,\n",
       "        -1.43133710e+00],\n",
       "       [ 2.34514326e+00, -2.07724792e-01,  7.66348409e+00,\n",
       "         3.68802499e+00]])"
      ]
     },
     "execution_count": 44,
     "metadata": {},
     "output_type": "execute_result"
    }
   ],
   "source": [
    "x"
   ]
  },
  {
   "cell_type": "code",
   "execution_count": 50,
   "metadata": {},
   "outputs": [
    {
     "data": {
      "text/plain": [
       "array([ 0.08903204, -0.00643197,  0.27823958,  0.12753548])"
      ]
     },
     "execution_count": 50,
     "metadata": {},
     "output_type": "execute_result"
    }
   ],
   "source": [
    "np.mean(x,axis=0)"
   ]
  },
  {
   "cell_type": "code",
   "execution_count": 51,
   "metadata": {},
   "outputs": [
    {
     "data": {
      "text/plain": [
       "array([[ 1.64743222e-01,  1.86148293e+00, -3.10444813e+00,\n",
       "        -5.00794263e-01],\n",
       "       [ 3.15884610e-01,  2.80394140e-01,  4.04415185e-01,\n",
       "         2.34954423e-01],\n",
       "       [-1.50065896e+00, -2.87906079e+00,  1.21080033e+00,\n",
       "        -1.00416689e+00],\n",
       "       [ 2.57197017e+00,  3.35135982e-01,  6.87034711e+00,\n",
       "         3.57479415e+00],\n",
       "       [-5.59640604e-01, -1.41031513e+00,  1.26346130e+00,\n",
       "        -1.96572080e-01],\n",
       "       [ 1.14547385e+00,  1.59596785e+00,  2.86526419e-01,\n",
       "         9.16018707e-01],\n",
       "       [-1.51323289e+00, -1.10147504e+00, -2.41268376e+00,\n",
       "        -1.74784522e+00],\n",
       "       [ 5.86498787e-01,  1.46407985e+00, -1.09961340e+00,\n",
       "         1.22294320e-01],\n",
       "       [-1.72340193e+00, -1.01785539e+00, -3.15175487e+00,\n",
       "        -2.22924215e+00],\n",
       "       [ 2.45450512e+00, -7.58239621e-01,  8.91763137e+00,\n",
       "         4.13387482e+00],\n",
       "       [ 8.92084993e-01,  1.33520908e-02,  2.74428981e+00,\n",
       "         1.42726625e+00],\n",
       "       [-7.96392497e-01,  1.13110522e+00, -4.57366136e+00,\n",
       "        -1.63864066e+00],\n",
       "       [ 2.60998646e-01,  9.92927988e-01, -1.22673309e+00,\n",
       "        -5.02023978e-02],\n",
       "       [ 7.46681634e-01, -7.85099968e-01,  3.65699616e+00,\n",
       "         1.25848342e+00],\n",
       "       [ 1.76129882e-01,  7.79093797e-01, -1.06107778e+00,\n",
       "        -9.62751183e-02],\n",
       "       [ 6.09814873e-01, -1.50063984e-01,  2.09330195e+00,\n",
       "         1.03609403e+00],\n",
       "       [-1.37155229e+00, -1.49422122e-01, -3.80084524e+00,\n",
       "        -2.04018363e+00],\n",
       "       [ 1.24147319e-01, -1.59398507e+00,  3.60347761e+00,\n",
       "         9.60540051e-01],\n",
       "       [-1.37339730e+00, -3.52711909e-02, -4.12634568e+00,\n",
       "        -2.03931589e+00],\n",
       "       [ 1.63842492e-02, -1.20729065e+00,  2.35823166e+00,\n",
       "         6.89735166e-01],\n",
       "       [ 1.34400568e+00,  4.34136509e-01,  3.25366291e+00,\n",
       "         1.63179708e+00],\n",
       "       [ 9.72947460e-01,  1.43252672e+00,  1.69993226e-02,\n",
       "         8.34373331e-01],\n",
       "       [ 1.95716351e+00,  9.34225649e-01,  4.12288045e+00,\n",
       "         2.39192788e+00],\n",
       "       [ 5.61390186e-01,  8.13171511e-01,  1.74521143e-02,\n",
       "         4.74131068e-01],\n",
       "       [ 6.37691433e-01, -1.12393891e+00,  4.10089879e+00,\n",
       "         1.40272938e+00],\n",
       "       [-1.69573586e+00,  2.54039468e-01, -5.53732612e+00,\n",
       "        -2.82195720e+00],\n",
       "       [-9.99150222e-01,  1.42178591e+00, -5.94212371e+00,\n",
       "        -2.09190292e+00],\n",
       "       [-2.10203322e-01,  2.41768430e-01, -1.00544483e+00,\n",
       "        -3.43087880e-01],\n",
       "       [-2.95186070e-01,  7.87696560e-02, -1.15296238e+00,\n",
       "        -3.41097675e-01],\n",
       "       [-1.39835332e+00,  9.14933682e-01, -5.93862576e+00,\n",
       "        -2.52015614e+00],\n",
       "       [-3.30080804e-01, -5.99106481e-02, -8.07358326e-01,\n",
       "        -3.71361468e-01],\n",
       "       [ 1.18601519e-01,  1.93975727e-01,  1.82878754e-02,\n",
       "         5.23015047e-03],\n",
       "       [ 1.00012528e-01,  7.85058518e-01, -1.27048110e+00,\n",
       "        -2.88302688e-01],\n",
       "       [-2.55903328e+00,  3.81738305e-01, -8.32132005e+00,\n",
       "        -3.85097889e+00],\n",
       "       [ 5.50672709e-01, -3.34129028e-02,  1.96506024e+00,\n",
       "         8.31799187e-01],\n",
       "       [-3.45803763e-01,  7.94644098e-01, -2.61422714e+00,\n",
       "        -7.68309675e-01],\n",
       "       [-8.81117554e-01, -1.83599756e-02, -2.58062377e+00,\n",
       "        -1.43650306e+00],\n",
       "       [-4.06764844e-01,  2.40009514e-02, -1.24926959e+00,\n",
       "        -6.66787653e-01],\n",
       "       [ 1.34244238e+00, -2.28429266e-01,  4.41392932e+00,\n",
       "         2.13354634e+00],\n",
       "       [ 7.04735519e-01,  1.54407500e-01,  1.60356668e+00,\n",
       "         8.69753377e-01],\n",
       "       [ 9.83984725e-02,  4.44787688e-01, -6.08784659e-01,\n",
       "        -1.05205211e-01],\n",
       "       [-1.96244006e+00, -8.12461896e-02, -5.76059453e+00,\n",
       "        -2.87807229e+00],\n",
       "       [-1.67396558e-01,  1.52100920e+00, -3.59902387e+00,\n",
       "        -9.98610682e-01],\n",
       "       [ 3.85344428e-01, -1.06402382e-01,  1.24687496e+00,\n",
       "         5.89808258e-01],\n",
       "       [ 1.86503262e-01, -1.20272005e+00,  2.91177097e+00,\n",
       "         8.24570159e-01],\n",
       "       [ 8.02461947e-03, -1.16803705e+00,  2.27550251e+00,\n",
       "         4.23068501e-01],\n",
       "       [-1.94162661e+00, -1.28971360e+00, -3.16919080e+00,\n",
       "        -2.36347599e+00],\n",
       "       [-5.11198643e-01, -7.97648691e-02, -1.52788365e+00,\n",
       "        -8.68397956e-01],\n",
       "       [-1.28318257e+00,  1.72572399e-02, -3.89961451e+00,\n",
       "        -1.79248127e+00],\n",
       "       [ 8.29378623e-01, -1.32907470e+00,  5.25684026e+00,\n",
       "         1.68149506e+00],\n",
       "       [ 6.75523560e-01,  1.74362784e+00, -1.42026776e+00,\n",
       "         1.61236426e-01],\n",
       "       [-4.43100206e-01,  1.18554571e+00, -3.79937403e+00,\n",
       "        -9.97995957e-01],\n",
       "       [ 5.07502602e-01, -2.02153461e+00,  5.51838304e+00,\n",
       "         1.62706651e+00],\n",
       "       [-9.40266549e-03,  3.06359920e-01, -6.54950905e-01,\n",
       "        -1.11552733e-01],\n",
       "       [ 1.32464966e+00,  6.09834507e-01,  2.67281065e+00,\n",
       "         1.70929414e+00],\n",
       "       [-7.93129996e-02,  2.07106230e-01, -6.80878401e-01,\n",
       "        -1.60469694e-01],\n",
       "       [ 5.55103381e-01, -1.45551457e+00,  4.64578576e+00,\n",
       "         1.46132913e+00],\n",
       "       [-2.36216426e-01,  1.19016810e+00, -3.03384863e+00,\n",
       "        -8.71869203e-01],\n",
       "       [-1.20125602e-01,  6.98527304e-01, -1.66803180e+00,\n",
       "        -4.57817083e-01],\n",
       "       [-3.38088190e-01, -5.91206204e-01,  3.28697300e-01,\n",
       "        -9.84301393e-02],\n",
       "       [ 1.72004265e+00,  3.18853182e-01,  4.26644214e+00,\n",
       "         2.53163362e+00],\n",
       "       [ 1.61716367e+00,  5.53237104e-01,  3.94477237e+00,\n",
       "         2.18159941e+00],\n",
       "       [-2.56008198e+00, -1.93746894e+00, -3.75918744e+00,\n",
       "        -2.96219106e+00],\n",
       "       [-3.37925503e-01,  1.53725947e+00, -4.10779788e+00,\n",
       "        -1.14721712e+00],\n",
       "       [ 2.25708757e-01, -6.04344611e-02,  8.10677620e-01,\n",
       "         2.09434495e-01],\n",
       "       [-1.49502586e+00,  6.23769716e-01, -5.64283824e+00,\n",
       "        -2.44395744e+00],\n",
       "       [-9.35240742e-01,  1.40255506e+00, -5.70014826e+00,\n",
       "        -1.99879081e+00],\n",
       "       [ 1.71976120e+00, -1.52335143e+00,  8.14944026e+00,\n",
       "         3.27855363e+00],\n",
       "       [ 8.49600299e-01, -6.39793755e-01,  3.70126301e+00,\n",
       "         1.33082036e+00],\n",
       "       [ 1.77851157e-01, -1.40801641e+00,  3.32578313e+00,\n",
       "         1.01719807e+00],\n",
       "       [-1.07478442e+00,  9.71662979e-01, -5.19121531e+00,\n",
       "        -2.07808553e+00],\n",
       "       [ 2.51520261e-01,  3.06939497e-01,  3.71265135e-02,\n",
       "         3.70105669e-01],\n",
       "       [ 6.25611949e-01,  4.72712226e-01,  9.67341317e-01,\n",
       "         6.58284187e-01],\n",
       "       [-1.13192486e+00, -1.95231741e-02, -3.46098458e+00,\n",
       "        -1.72751032e+00],\n",
       "       [-9.51268423e-02,  8.14888459e-01, -1.69426038e+00,\n",
       "        -4.67557487e-01],\n",
       "       [ 1.25378807e+00,  1.77004971e+00,  1.82874394e-01,\n",
       "         1.15627947e+00],\n",
       "       [-1.55678101e+00, -2.73390680e-01, -4.07491367e+00,\n",
       "        -2.19592824e+00],\n",
       "       [-6.48259579e-01,  7.65119436e-01, -3.43779956e+00,\n",
       "        -1.39204763e+00],\n",
       "       [-1.34216463e-01, -7.55204758e-02, -3.30545822e-01,\n",
       "        -1.06271444e-01],\n",
       "       [ 6.72182239e-01,  1.83418994e+00, -1.72483863e+00,\n",
       "         1.60665059e-01],\n",
       "       [ 1.34862083e+00, -2.53379246e-01,  4.68110321e+00,\n",
       "         2.17899324e+00],\n",
       "       [-1.75493719e-01, -1.56414734e+00,  2.56664320e+00,\n",
       "         6.02255382e-01],\n",
       "       [-3.37317121e-01,  2.70426528e-01, -1.65827623e+00,\n",
       "        -6.58227349e-01],\n",
       "       [-2.49318829e-01, -7.03417519e-01,  5.46905660e-01,\n",
       "         5.50174522e-02],\n",
       "       [ 1.11470129e-01,  4.74213675e-01, -6.13019530e-01,\n",
       "        -1.21493051e-01],\n",
       "       [-3.03242804e-01, -2.80806952e+00,  4.64110030e+00,\n",
       "         1.09154378e+00],\n",
       "       [ 1.19373834e-01, -5.29316483e-01,  1.43746962e+00,\n",
       "         4.42905819e-01],\n",
       "       [-1.02275065e+00,  2.85253330e-02, -3.00695048e+00,\n",
       "        -1.73401129e+00],\n",
       "       [ 1.54824967e+00, -1.30029164e+00,  7.33741763e+00,\n",
       "         3.02592304e+00],\n",
       "       [-1.47278163e+00, -5.88061894e-01, -3.46833731e+00,\n",
       "        -1.97304079e+00],\n",
       "       [ 5.76702156e-01, -2.86632178e-02,  1.85688651e+00,\n",
       "         7.73275491e-01],\n",
       "       [ 8.38641136e-01,  6.19772788e-01,  1.21344022e+00,\n",
       "         1.15074436e+00],\n",
       "       [ 1.16162831e+00, -1.49440222e+00,  6.62141788e+00,\n",
       "         2.48081778e+00],\n",
       "       [-1.64630415e+00,  7.04496223e-01, -6.39384419e+00,\n",
       "        -2.92427972e+00],\n",
       "       [ 5.70129567e-01,  6.56249994e-01,  3.82127237e-01,\n",
       "         5.27793426e-01],\n",
       "       [ 7.64558781e-01,  3.58199303e-02,  2.20873768e+00,\n",
       "         1.12157856e+00],\n",
       "       [ 3.64385254e-01,  5.05689948e-01,  8.63978653e-02,\n",
       "         2.30731933e-01],\n",
       "       [-4.53755538e-01, -2.74114696e+00,  4.12962633e+00,\n",
       "         6.93688562e-01],\n",
       "       [-1.01638228e+00,  1.23655660e-01, -3.19479355e+00,\n",
       "        -1.55887258e+00],\n",
       "       [ 2.25611122e+00, -2.01292821e-01,  7.38524451e+00,\n",
       "         3.56048951e+00]])"
      ]
     },
     "execution_count": 51,
     "metadata": {},
     "output_type": "execute_result"
    }
   ],
   "source": [
    "x = x - np.mean(x, axis = 0)\n",
    "x"
   ]
  },
  {
   "cell_type": "code",
   "execution_count": 54,
   "metadata": {},
   "outputs": [
    {
     "data": {
      "image/png": "[encoded data removed]",
      "text/plain": [
       "<Figure size 1000x1000 with 6 Axes>"
      ]
     },
     "metadata": {},
     "output_type": "display_data"
    }
   ],
   "source": [
    "plt.figure(figsize=(10,10))\n",
    "\n",
    "for i in range(4):\n",
    "    for j in range(4):\n",
    "        if j > i :\n",
    "            plt.subplot(4,4,i*4+j+1)\n",
    "            plt.scatter(x[:,i], x[:,j])\n",
    "            plt.xlabel(f\"x{i+1}\", fontsize = 20)\n",
    "            plt.ylabel(f\"x{j+1}\", fontsize = 20)\n",
    "plt.tight_layout()\n",
    "plt.show()"
   ]
  },
  {
   "cell_type": "code",
   "execution_count": 55,
   "metadata": {},
   "outputs": [],
   "source": [
    "## x1 and x2 do not seem to be correlated\n",
    "## x1 seems very correlated with both x3 and x4 \n",
    "## x2 seems somewhat correlated with both x3 and x4 \n",
    "## x3 and x4 seem very correlated"
   ]
  },
  {
   "cell_type": "code",
   "execution_count": 56,
   "metadata": {},
   "outputs": [
    {
     "data": {
      "text/html": [
       "<style>#sk-container-id-1 {\n",
       "  /* Definition of color scheme common for light and dark mode */\n",
       "  --sklearn-color-text: black;\n",
       "  --sklearn-color-line: gray;\n",
       "  /* Definition of color scheme for unfitted estimators */\n",
       "  --sklearn-color-unfitted-level-0: #fff5e6;\n",
       "  --sklearn-color-unfitted-level-1: #f6e4d2;\n",
       "  --sklearn-color-unfitted-level-2: #ffe0b3;\n",
       "  --sklearn-color-unfitted-level-3: chocolate;\n",
       "  /* Definition of color scheme for fitted estimators */\n",
       "  --sklearn-color-fitted-level-0: #f0f8ff;\n",
       "  --sklearn-color-fitted-level-1: #d4ebff;\n",
       "  --sklearn-color-fitted-level-2: #b3dbfd;\n",
       "  --sklearn-color-fitted-level-3: cornflowerblue;\n",
       "\n",
       "  /* Specific color for light theme */\n",
       "  --sklearn-color-text-on-default-background: var(--sg-text-color, var(--theme-code-foreground, var(--jp-content-font-color1, black)));\n",
       "  --sklearn-color-background: var(--sg-background-color, var(--theme-background, var(--jp-layout-color0, white)));\n",
       "  --sklearn-color-border-box: var(--sg-text-color, var(--theme-code-foreground, var(--jp-content-font-color1, black)));\n",
       "  --sklearn-color-icon: #696969;\n",
       "\n",
       "  @media (prefers-color-scheme: dark) {\n",
       "    /* Redefinition of color scheme for dark theme */\n",
       "    --sklearn-color-text-on-default-background: var(--sg-text-color, var(--theme-code-foreground, var(--jp-content-font-color1, white)));\n",
       "    --sklearn-color-background: var(--sg-background-color, var(--theme-background, var(--jp-layout-color0, #111)));\n",
       "    --sklearn-color-border-box: var(--sg-text-color, var(--theme-code-foreground, var(--jp-content-font-color1, white)));\n",
       "    --sklearn-color-icon: #878787;\n",
       "  }\n",
       "}\n",
       "\n",
       "#sk-container-id-1 {\n",
       "  color: var(--sklearn-color-text);\n",
       "}\n",
       "\n",
       "#sk-container-id-1 pre {\n",
       "  padding: 0;\n",
       "}\n",
       "\n",
       "#sk-container-id-1 input.sk-hidden--visually {\n",
       "  border: 0;\n",
       "  clip: rect(1px 1px 1px 1px);\n",
       "  clip: rect(1px, 1px, 1px, 1px);\n",
       "  height: 1px;\n",
       "  margin: -1px;\n",
       "  overflow: hidden;\n",
       "  padding: 0;\n",
       "  position: absolute;\n",
       "  width: 1px;\n",
       "}\n",
       "\n",
       "#sk-container-id-1 div.sk-dashed-wrapped {\n",
       "  border: 1px dashed var(--sklearn-color-line);\n",
       "  margin: 0 0.4em 0.5em 0.4em;\n",
       "  box-sizing: border-box;\n",
       "  padding-bottom: 0.4em;\n",
       "  background-color: var(--sklearn-color-background);\n",
       "}\n",
       "\n",
       "#sk-container-id-1 div.sk-container {\n",
       "  /* jupyter's `normalize.less` sets `[hidden] { display: none; }`\n",
       "     but bootstrap.min.css set `[hidden] { display: none !important; }`\n",
       "     so we also need the `!important` here to be able to override the\n",
       "     default hidden behavior on the sphinx rendered scikit-learn.org.\n",
       "     See: https://github.com/scikit-learn/scikit-learn/issues/21755 */\n",
       "  display: inline-block !important;\n",
       "  position: relative;\n",
       "}\n",
       "\n",
       "#sk-container-id-1 div.sk-text-repr-fallback {\n",
       "  display: none;\n",
       "}\n",
       "\n",
       "div.sk-parallel-item,\n",
       "div.sk-serial,\n",
       "div.sk-item {\n",
       "  /* draw centered vertical line to link estimators */\n",
       "  background-image: linear-gradient(var(--sklearn-color-text-on-default-background), var(--sklearn-color-text-on-default-background));\n",
       "  background-size: 2px 100%;\n",
       "  background-repeat: no-repeat;\n",
       "  background-position: center center;\n",
       "}\n",
       "\n",
       "/* Parallel-specific style estimator block */\n",
       "\n",
       "#sk-container-id-1 div.sk-parallel-item::after {\n",
       "  content: \"\";\n",
       "  width: 100%;\n",
       "  border-bottom: 2px solid var(--sklearn-color-text-on-default-background);\n",
       "  flex-grow: 1;\n",
       "}\n",
       "\n",
       "#sk-container-id-1 div.sk-parallel {\n",
       "  display: flex;\n",
       "  align-items: stretch;\n",
       "  justify-content: center;\n",
       "  background-color: var(--sklearn-color-background);\n",
       "  position: relative;\n",
       "}\n",
       "\n",
       "#sk-container-id-1 div.sk-parallel-item {\n",
       "  display: flex;\n",
       "  flex-direction: column;\n",
       "}\n",
       "\n",
       "#sk-container-id-1 div.sk-parallel-item:first-child::after {\n",
       "  align-self: flex-end;\n",
       "  width: 50%;\n",
       "}\n",
       "\n",
       "#sk-container-id-1 div.sk-parallel-item:last-child::after {\n",
       "  align-self: flex-start;\n",
       "  width: 50%;\n",
       "}\n",
       "\n",
       "#sk-container-id-1 div.sk-parallel-item:only-child::after {\n",
       "  width: 0;\n",
       "}\n",
       "\n",
       "/* Serial-specific style estimator block */\n",
       "\n",
       "#sk-container-id-1 div.sk-serial {\n",
       "  display: flex;\n",
       "  flex-direction: column;\n",
       "  align-items: center;\n",
       "  background-color: var(--sklearn-color-background);\n",
       "  padding-right: 1em;\n",
       "  padding-left: 1em;\n",
       "}\n",
       "\n",
       "\n",
       "/* Toggleable style: style used for estimator/Pipeline/ColumnTransformer box that is\n",
       "clickable and can be expanded/collapsed.\n",
       "- Pipeline and ColumnTransformer use this feature and define the default style\n",
       "- Estimators will overwrite some part of the style using the `sk-estimator` class\n",
       "*/\n",
       "\n",
       "/* Pipeline and ColumnTransformer style (default) */\n",
       "\n",
       "#sk-container-id-1 div.sk-toggleable {\n",
       "  /* Default theme specific background. It is overwritten whether we have a\n",
       "  specific estimator or a Pipeline/ColumnTransformer */\n",
       "  background-color: var(--sklearn-color-background);\n",
       "}\n",
       "\n",
       "/* Toggleable label */\n",
       "#sk-container-id-1 label.sk-toggleable__label {\n",
       "  cursor: pointer;\n",
       "  display: block;\n",
       "  width: 100%;\n",
       "  margin-bottom: 0;\n",
       "  padding: 0.5em;\n",
       "  box-sizing: border-box;\n",
       "  text-align: center;\n",
       "}\n",
       "\n",
       "#sk-container-id-1 label.sk-toggleable__label-arrow:before {\n",
       "  /* Arrow on the left of the label */\n",
       "  content: \"▸\";\n",
       "  float: left;\n",
       "  margin-right: 0.25em;\n",
       "  color: var(--sklearn-color-icon);\n",
       "}\n",
       "\n",
       "#sk-container-id-1 label.sk-toggleable__label-arrow:hover:before {\n",
       "  color: var(--sklearn-color-text);\n",
       "}\n",
       "\n",
       "/* Toggleable content - dropdown */\n",
       "\n",
       "#sk-container-id-1 div.sk-toggleable__content {\n",
       "  max-height: 0;\n",
       "  max-width: 0;\n",
       "  overflow: hidden;\n",
       "  text-align: left;\n",
       "  /* unfitted */\n",
       "  background-color: var(--sklearn-color-unfitted-level-0);\n",
       "}\n",
       "\n",
       "#sk-container-id-1 div.sk-toggleable__content.fitted {\n",
       "  /* fitted */\n",
       "  background-color: var(--sklearn-color-fitted-level-0);\n",
       "}\n",
       "\n",
       "#sk-container-id-1 div.sk-toggleable__content pre {\n",
       "  margin: 0.2em;\n",
       "  border-radius: 0.25em;\n",
       "  color: var(--sklearn-color-text);\n",
       "  /* unfitted */\n",
       "  background-color: var(--sklearn-color-unfitted-level-0);\n",
       "}\n",
       "\n",
       "#sk-container-id-1 div.sk-toggleable__content.fitted pre {\n",
       "  /* unfitted */\n",
       "  background-color: var(--sklearn-color-fitted-level-0);\n",
       "}\n",
       "\n",
       "#sk-container-id-1 input.sk-toggleable__control:checked~div.sk-toggleable__content {\n",
       "  /* Expand drop-down */\n",
       "  max-height: 200px;\n",
       "  max-width: 100%;\n",
       "  overflow: auto;\n",
       "}\n",
       "\n",
       "#sk-container-id-1 input.sk-toggleable__control:checked~label.sk-toggleable__label-arrow:before {\n",
       "  content: \"▾\";\n",
       "}\n",
       "\n",
       "/* Pipeline/ColumnTransformer-specific style */\n",
       "\n",
       "#sk-container-id-1 div.sk-label input.sk-toggleable__control:checked~label.sk-toggleable__label {\n",
       "  color: var(--sklearn-color-text);\n",
       "  background-color: var(--sklearn-color-unfitted-level-2);\n",
       "}\n",
       "\n",
       "#sk-container-id-1 div.sk-label.fitted input.sk-toggleable__control:checked~label.sk-toggleable__label {\n",
       "  background-color: var(--sklearn-color-fitted-level-2);\n",
       "}\n",
       "\n",
       "/* Estimator-specific style */\n",
       "\n",
       "/* Colorize estimator box */\n",
       "#sk-container-id-1 div.sk-estimator input.sk-toggleable__control:checked~label.sk-toggleable__label {\n",
       "  /* unfitted */\n",
       "  background-color: var(--sklearn-color-unfitted-level-2);\n",
       "}\n",
       "\n",
       "#sk-container-id-1 div.sk-estimator.fitted input.sk-toggleable__control:checked~label.sk-toggleable__label {\n",
       "  /* fitted */\n",
       "  background-color: var(--sklearn-color-fitted-level-2);\n",
       "}\n",
       "\n",
       "#sk-container-id-1 div.sk-label label.sk-toggleable__label,\n",
       "#sk-container-id-1 div.sk-label label {\n",
       "  /* The background is the default theme color */\n",
       "  color: var(--sklearn-color-text-on-default-background);\n",
       "}\n",
       "\n",
       "/* On hover, darken the color of the background */\n",
       "#sk-container-id-1 div.sk-label:hover label.sk-toggleable__label {\n",
       "  color: var(--sklearn-color-text);\n",
       "  background-color: var(--sklearn-color-unfitted-level-2);\n",
       "}\n",
       "\n",
       "/* Label box, darken color on hover, fitted */\n",
       "#sk-container-id-1 div.sk-label.fitted:hover label.sk-toggleable__label.fitted {\n",
       "  color: var(--sklearn-color-text);\n",
       "  background-color: var(--sklearn-color-fitted-level-2);\n",
       "}\n",
       "\n",
       "/* Estimator label */\n",
       "\n",
       "#sk-container-id-1 div.sk-label label {\n",
       "  font-family: monospace;\n",
       "  font-weight: bold;\n",
       "  display: inline-block;\n",
       "  line-height: 1.2em;\n",
       "}\n",
       "\n",
       "#sk-container-id-1 div.sk-label-container {\n",
       "  text-align: center;\n",
       "}\n",
       "\n",
       "/* Estimator-specific */\n",
       "#sk-container-id-1 div.sk-estimator {\n",
       "  font-family: monospace;\n",
       "  border: 1px dotted var(--sklearn-color-border-box);\n",
       "  border-radius: 0.25em;\n",
       "  box-sizing: border-box;\n",
       "  margin-bottom: 0.5em;\n",
       "  /* unfitted */\n",
       "  background-color: var(--sklearn-color-unfitted-level-0);\n",
       "}\n",
       "\n",
       "#sk-container-id-1 div.sk-estimator.fitted {\n",
       "  /* fitted */\n",
       "  background-color: var(--sklearn-color-fitted-level-0);\n",
       "}\n",
       "\n",
       "/* on hover */\n",
       "#sk-container-id-1 div.sk-estimator:hover {\n",
       "  /* unfitted */\n",
       "  background-color: var(--sklearn-color-unfitted-level-2);\n",
       "}\n",
       "\n",
       "#sk-container-id-1 div.sk-estimator.fitted:hover {\n",
       "  /* fitted */\n",
       "  background-color: var(--sklearn-color-fitted-level-2);\n",
       "}\n",
       "\n",
       "/* Specification for estimator info (e.g. \"i\" and \"?\") */\n",
       "\n",
       "/* Common style for \"i\" and \"?\" */\n",
       "\n",
       ".sk-estimator-doc-link,\n",
       "a:link.sk-estimator-doc-link,\n",
       "a:visited.sk-estimator-doc-link {\n",
       "  float: right;\n",
       "  font-size: smaller;\n",
       "  line-height: 1em;\n",
       "  font-family: monospace;\n",
       "  background-color: var(--sklearn-color-background);\n",
       "  border-radius: 1em;\n",
       "  height: 1em;\n",
       "  width: 1em;\n",
       "  text-decoration: none !important;\n",
       "  margin-left: 1ex;\n",
       "  /* unfitted */\n",
       "  border: var(--sklearn-color-unfitted-level-1) 1pt solid;\n",
       "  color: var(--sklearn-color-unfitted-level-1);\n",
       "}\n",
       "\n",
       ".sk-estimator-doc-link.fitted,\n",
       "a:link.sk-estimator-doc-link.fitted,\n",
       "a:visited.sk-estimator-doc-link.fitted {\n",
       "  /* fitted */\n",
       "  border: var(--sklearn-color-fitted-level-1) 1pt solid;\n",
       "  color: var(--sklearn-color-fitted-level-1);\n",
       "}\n",
       "\n",
       "/* On hover */\n",
       "div.sk-estimator:hover .sk-estimator-doc-link:hover,\n",
       ".sk-estimator-doc-link:hover,\n",
       "div.sk-label-container:hover .sk-estimator-doc-link:hover,\n",
       ".sk-estimator-doc-link:hover {\n",
       "  /* unfitted */\n",
       "  background-color: var(--sklearn-color-unfitted-level-3);\n",
       "  color: var(--sklearn-color-background);\n",
       "  text-decoration: none;\n",
       "}\n",
       "\n",
       "div.sk-estimator.fitted:hover .sk-estimator-doc-link.fitted:hover,\n",
       ".sk-estimator-doc-link.fitted:hover,\n",
       "div.sk-label-container:hover .sk-estimator-doc-link.fitted:hover,\n",
       ".sk-estimator-doc-link.fitted:hover {\n",
       "  /* fitted */\n",
       "  background-color: var(--sklearn-color-fitted-level-3);\n",
       "  color: var(--sklearn-color-background);\n",
       "  text-decoration: none;\n",
       "}\n",
       "\n",
       "/* Span, style for the box shown on hovering the info icon */\n",
       ".sk-estimator-doc-link span {\n",
       "  display: none;\n",
       "  z-index: 9999;\n",
       "  position: relative;\n",
       "  font-weight: normal;\n",
       "  right: .2ex;\n",
       "  padding: .5ex;\n",
       "  margin: .5ex;\n",
       "  width: min-content;\n",
       "  min-width: 20ex;\n",
       "  max-width: 50ex;\n",
       "  color: var(--sklearn-color-text);\n",
       "  box-shadow: 2pt 2pt 4pt #999;\n",
       "  /* unfitted */\n",
       "  background: var(--sklearn-color-unfitted-level-0);\n",
       "  border: .5pt solid var(--sklearn-color-unfitted-level-3);\n",
       "}\n",
       "\n",
       ".sk-estimator-doc-link.fitted span {\n",
       "  /* fitted */\n",
       "  background: var(--sklearn-color-fitted-level-0);\n",
       "  border: var(--sklearn-color-fitted-level-3);\n",
       "}\n",
       "\n",
       ".sk-estimator-doc-link:hover span {\n",
       "  display: block;\n",
       "}\n",
       "\n",
       "/* \"?\"-specific style due to the `<a>` HTML tag */\n",
       "\n",
       "#sk-container-id-1 a.estimator_doc_link {\n",
       "  float: right;\n",
       "  font-size: 1rem;\n",
       "  line-height: 1em;\n",
       "  font-family: monospace;\n",
       "  background-color: var(--sklearn-color-background);\n",
       "  border-radius: 1rem;\n",
       "  height: 1rem;\n",
       "  width: 1rem;\n",
       "  text-decoration: none;\n",
       "  /* unfitted */\n",
       "  color: var(--sklearn-color-unfitted-level-1);\n",
       "  border: var(--sklearn-color-unfitted-level-1) 1pt solid;\n",
       "}\n",
       "\n",
       "#sk-container-id-1 a.estimator_doc_link.fitted {\n",
       "  /* fitted */\n",
       "  border: var(--sklearn-color-fitted-level-1) 1pt solid;\n",
       "  color: var(--sklearn-color-fitted-level-1);\n",
       "}\n",
       "\n",
       "/* On hover */\n",
       "#sk-container-id-1 a.estimator_doc_link:hover {\n",
       "  /* unfitted */\n",
       "  background-color: var(--sklearn-color-unfitted-level-3);\n",
       "  color: var(--sklearn-color-background);\n",
       "  text-decoration: none;\n",
       "}\n",
       "\n",
       "#sk-container-id-1 a.estimator_doc_link.fitted:hover {\n",
       "  /* fitted */\n",
       "  background-color: var(--sklearn-color-fitted-level-3);\n",
       "}\n",
       "</style><div id=\"sk-container-id-1\" class=\"sk-top-container\"><div class=\"sk-text-repr-fallback\"><pre>PCA(n_components=3)</pre><b>In a Jupyter environment, please rerun this cell to show the HTML representation or trust the notebook. <br />On GitHub, the HTML representation is unable to render, please try loading this page with nbviewer.org.</b></div><div class=\"sk-container\" hidden><div class=\"sk-item\"><div class=\"sk-estimator fitted sk-toggleable\"><input class=\"sk-toggleable__control sk-hidden--visually\" id=\"sk-estimator-id-1\" type=\"checkbox\" checked><label for=\"sk-estimator-id-1\" class=\"sk-toggleable__label fitted sk-toggleable__label-arrow fitted\">&nbsp;&nbsp;PCA<a class=\"sk-estimator-doc-link fitted\" rel=\"noreferrer\" target=\"_blank\" href=\"https://scikit-learn.org/1.4/modules/generated/sklearn.decomposition.PCA.html\">?<span>Documentation for PCA</span></a><span class=\"sk-estimator-doc-link fitted\">i<span>Fitted</span></span></label><div class=\"sk-toggleable__content fitted\"><pre>PCA(n_components=3)</pre></div> </div></div></div></div>"
      ],
      "text/plain": [
       "PCA(n_components=3)"
      ]
     },
     "execution_count": 56,
     "metadata": {},
     "output_type": "execute_result"
    }
   ],
   "source": [
    "pca = PCA(3)\n",
    "pca.fit(x)"
   ]
  },
  {
   "cell_type": "code",
   "execution_count": 57,
   "metadata": {},
   "outputs": [
    {
     "data": {
      "text/plain": [
       "array([[ 0.22147929, -0.11238884,  0.8895653 ,  0.38339176],\n",
       "       [-0.47318166, -0.79396672,  0.16570939, -0.34388424],\n",
       "       [-0.21004507, -0.31857506, -0.35565879,  0.85316928]])"
      ]
     },
     "execution_count": 57,
     "metadata": {},
     "output_type": "execute_result"
    }
   ],
   "source": [
    "pca.components_"
   ]
  },
  {
   "cell_type": "code",
   "execution_count": 58,
   "metadata": {},
   "outputs": [
    {
     "data": {
      "text/plain": [
       "array([[ 0.22147929, -0.47318166, -0.21004507],\n",
       "       [-0.11238884, -0.79396672, -0.31857506],\n",
       "       [ 0.8895653 ,  0.16570939, -0.35565879],\n",
       "       [ 0.38339176, -0.34388424,  0.85316928]])"
      ]
     },
     "execution_count": 58,
     "metadata": {},
     "output_type": "execute_result"
    }
   ],
   "source": [
    "pca.components_.T"
   ]
  },
  {
   "cell_type": "code",
   "execution_count": 59,
   "metadata": {},
   "outputs": [
    {
     "name": "stdout",
     "output_type": "stream",
     "text": [
      "principle component 0\n",
      "[ 0.22147929 -0.11238884  0.8895653   0.38339176]\n",
      " \n",
      "principle component 1\n",
      "[-0.47318166 -0.79396672  0.16570939 -0.34388424]\n",
      " \n",
      "principle component 2\n",
      "[-0.21004507 -0.31857506 -0.35565879  0.85316928]\n",
      " \n"
     ]
    }
   ],
   "source": [
    "for i, component in enumerate(pca.components_):\n",
    "    print(f\"principle component {i}\")\n",
    "    print(component)\n",
    "    print(\" \")"
   ]
  },
  {
   "cell_type": "code",
   "execution_count": null,
   "metadata": {},
   "outputs": [],
   "source": []
  },
  {
   "cell_type": "code",
   "execution_count": 61,
   "metadata": {},
   "outputs": [
    {
     "data": {
      "text/plain": [
       "(100, 4)"
      ]
     },
     "execution_count": 61,
     "metadata": {},
     "output_type": "execute_result"
    }
   ],
   "source": [
    "x.shape"
   ]
  },
  {
   "cell_type": "code",
   "execution_count": 60,
   "metadata": {},
   "outputs": [],
   "source": [
    "## from scratch"
   ]
  },
  {
   "cell_type": "code",
   "execution_count": 62,
   "metadata": {},
   "outputs": [
    {
     "data": {
      "text/plain": [
       "array([[ 1.12825011,  0.10432182,  3.1779267 ,  1.63961069],\n",
       "       [ 0.10432182,  1.08275288, -1.84826516, -0.34335855],\n",
       "       [ 3.1779267 , -1.84826516, 13.23638593,  5.60686838],\n",
       "       [ 1.63961069, -0.34335855,  5.60686838,  2.62043821]])"
      ]
     },
     "execution_count": 62,
     "metadata": {},
     "output_type": "execute_result"
    }
   ],
   "source": [
    "## covariance matrix of the data\n",
    "cov_matrix = sum([x[i].reshape(-1,1) @ x[i].reshape(1,-1) for i in range(100)]) / 100\n",
    "cov_matrix"
   ]
  },
  {
   "cell_type": "code",
   "execution_count": null,
   "metadata": {},
   "outputs": [],
   "source": []
  },
  {
   "cell_type": "code",
   "execution_count": null,
   "metadata": {},
   "outputs": [],
   "source": []
  },
  {
   "cell_type": "code",
   "execution_count": 66,
   "metadata": {},
   "outputs": [
    {
     "data": {
      "text/plain": [
       "array([[ 0.02714033,  0.3066667 , -0.51143679, -0.08250246],\n",
       "       [ 0.3066667 ,  3.4651187 , -5.7788772 , -0.93221997],\n",
       "       [-0.51143679, -5.7788772 ,  9.6375982 ,  1.55468981],\n",
       "       [-0.08250246, -0.93221997,  1.55468981,  0.25079489]])"
      ]
     },
     "execution_count": 66,
     "metadata": {},
     "output_type": "execute_result"
    }
   ],
   "source": [
    "x[0].reshape(-1,1) * x[0].reshape(1,-1)"
   ]
  },
  {
   "cell_type": "code",
   "execution_count": 67,
   "metadata": {},
   "outputs": [
    {
     "data": {
      "text/plain": [
       "array([[0.09978309, 0.08857219, 0.12774853, 0.07421849],\n",
       "       [0.08857219, 0.07862087, 0.11339565, 0.06587984],\n",
       "       [0.12774853, 0.11339565, 0.16355164, 0.09501914],\n",
       "       [0.07421849, 0.06587984, 0.09501914, 0.05520358]])"
      ]
     },
     "execution_count": 67,
     "metadata": {},
     "output_type": "execute_result"
    }
   ],
   "source": [
    "x[1].reshape(-1,1) * x[1].reshape(1,-1)"
   ]
  },
  {
   "cell_type": "code",
   "execution_count": 68,
   "metadata": {},
   "outputs": [
    {
     "data": {
      "text/plain": [
       "[array([[ 0.02714033,  0.3066667 , -0.51143679, -0.08250246],\n",
       "        [ 0.3066667 ,  3.4651187 , -5.7788772 , -0.93221997],\n",
       "        [-0.51143679, -5.7788772 ,  9.6375982 ,  1.55468981],\n",
       "        [-0.08250246, -0.93221997,  1.55468981,  0.25079489]]),\n",
       " array([[0.09978309, 0.08857219, 0.12774853, 0.07421849],\n",
       "        [0.08857219, 0.07862087, 0.11339565, 0.06587984],\n",
       "        [0.12774853, 0.11339565, 0.16355164, 0.09501914],\n",
       "        [0.07421849, 0.06587984, 0.09501914, 0.05520358]])]"
      ]
     },
     "execution_count": 68,
     "metadata": {},
     "output_type": "execute_result"
    }
   ],
   "source": [
    "[x[0].reshape(-1,1) * x[0].reshape(1,-1), x[1].reshape(-1,1) * x[1].reshape(1,-1)]"
   ]
  },
  {
   "cell_type": "code",
   "execution_count": 69,
   "metadata": {},
   "outputs": [
    {
     "data": {
      "text/plain": [
       "array([[ 1.26923416e-01,  3.95238889e-01, -3.83688255e-01,\n",
       "        -8.28397401e-03],\n",
       "       [ 3.95238889e-01,  3.54373957e+00, -5.66548156e+00,\n",
       "        -8.66340128e-01],\n",
       "       [-3.83688255e-01, -5.66548156e+00,  9.80114984e+00,\n",
       "         1.64970895e+00],\n",
       "       [-8.28397401e-03, -8.66340128e-01,  1.64970895e+00,\n",
       "         3.05998475e-01]])"
      ]
     },
     "execution_count": 69,
     "metadata": {},
     "output_type": "execute_result"
    }
   ],
   "source": [
    "sum([x[0].reshape(-1,1) * x[0].reshape(1,-1), x[1].reshape(-1,1) * x[1].reshape(1,-1)])"
   ]
  },
  {
   "cell_type": "code",
   "execution_count": 70,
   "metadata": {},
   "outputs": [
    {
     "data": {
      "text/plain": [
       "array([[ 6.34617081e-02,  1.97619445e-01, -1.91844127e-01,\n",
       "        -4.14198700e-03],\n",
       "       [ 1.97619445e-01,  1.77186979e+00, -2.83274078e+00,\n",
       "        -4.33170064e-01],\n",
       "       [-1.91844127e-01, -2.83274078e+00,  4.90057492e+00,\n",
       "         8.24854475e-01],\n",
       "       [-4.14198700e-03, -4.33170064e-01,  8.24854475e-01,\n",
       "         1.52999237e-01]])"
      ]
     },
     "execution_count": 70,
     "metadata": {},
     "output_type": "execute_result"
    }
   ],
   "source": [
    "sum([x[0].reshape(-1,1) * x[0].reshape(1,-1), x[1].reshape(-1,1) * x[1].reshape(1,-1)])/2"
   ]
  },
  {
   "cell_type": "code",
   "execution_count": null,
   "metadata": {},
   "outputs": [],
   "source": []
  },
  {
   "cell_type": "code",
   "execution_count": null,
   "metadata": {},
   "outputs": [],
   "source": []
  },
  {
   "cell_type": "code",
   "execution_count": 71,
   "metadata": {
    "scrolled": true
   },
   "outputs": [
    {
     "data": {
      "text/plain": [
       "array([[ 1.12825011,  0.10432182,  3.1779267 ,  1.63961069],\n",
       "       [ 0.10432182,  1.08275288, -1.84826516, -0.34335855],\n",
       "       [ 3.1779267 , -1.84826516, 13.23638593,  5.60686838],\n",
       "       [ 1.63961069, -0.34335855,  5.60686838,  2.62043821]])"
      ]
     },
     "execution_count": 71,
     "metadata": {},
     "output_type": "execute_result"
    }
   ],
   "source": [
    "cov_matrix"
   ]
  },
  {
   "cell_type": "code",
   "execution_count": 79,
   "metadata": {},
   "outputs": [
    {
     "data": {
      "text/plain": [
       "0.10432182147502857"
      ]
     },
     "execution_count": 79,
     "metadata": {},
     "output_type": "execute_result"
    }
   ],
   "source": [
    "x0 = np.mean(x[:,0])\n",
    "x1 = np.mean(x[:,1])\n",
    "cov01 = sum((x[:,0] - x0)*(x[:,1] - x1))/100\n",
    "cov01"
   ]
  },
  {
   "cell_type": "code",
   "execution_count": null,
   "metadata": {},
   "outputs": [],
   "source": [
    "## we get the same values "
   ]
  },
  {
   "cell_type": "code",
   "execution_count": null,
   "metadata": {},
   "outputs": [],
   "source": []
  },
  {
   "cell_type": "code",
   "execution_count": null,
   "metadata": {},
   "outputs": [],
   "source": []
  },
  {
   "cell_type": "code",
   "execution_count": 72,
   "metadata": {
    "scrolled": true
   },
   "outputs": [
    {
     "data": {
      "text/plain": [
       "(array([1.66776133e+01, 1.38196248e+00, 5.87354365e-04, 7.66401026e-03]),\n",
       " array([[ 0.22147929,  0.47318166,  0.82639404, -0.21004507],\n",
       "        [-0.11238884,  0.79396672, -0.50546566, -0.31857506],\n",
       "        [ 0.8895653 , -0.16570939, -0.23392476, -0.35565879],\n",
       "        [ 0.38339176,  0.34388424, -0.08280438,  0.85316928]]))"
      ]
     },
     "execution_count": 72,
     "metadata": {},
     "output_type": "execute_result"
    }
   ],
   "source": [
    "eigenvec = np.linalg.eig(cov_matrix)\n",
    "eigenvec"
   ]
  },
  {
   "cell_type": "code",
   "execution_count": 80,
   "metadata": {},
   "outputs": [],
   "source": [
    "## decending order of eigenvalues\n",
    "odering = np.argsort(eigenvec[0])[::-1]"
   ]
  },
  {
   "cell_type": "code",
   "execution_count": 81,
   "metadata": {},
   "outputs": [
    {
     "data": {
      "text/plain": [
       "array([0, 1, 3, 2], dtype=int64)"
      ]
     },
     "execution_count": 81,
     "metadata": {},
     "output_type": "execute_result"
    }
   ],
   "source": [
    "odering"
   ]
  },
  {
   "cell_type": "code",
   "execution_count": 84,
   "metadata": {},
   "outputs": [
    {
     "data": {
      "text/plain": [
       "array([[ 0.22147929,  0.47318166,  0.82639404, -0.21004507],\n",
       "       [-0.11238884,  0.79396672, -0.50546566, -0.31857506],\n",
       "       [ 0.8895653 , -0.16570939, -0.23392476, -0.35565879],\n",
       "       [ 0.38339176,  0.34388424, -0.08280438,  0.85316928]])"
      ]
     },
     "execution_count": 84,
     "metadata": {},
     "output_type": "execute_result"
    }
   ],
   "source": [
    "eigenvec[1]"
   ]
  },
  {
   "cell_type": "code",
   "execution_count": 88,
   "metadata": {},
   "outputs": [
    {
     "data": {
      "text/plain": [
       "array([[ 0.22147929,  0.47318166, -0.21004507,  0.82639404],\n",
       "       [-0.11238884,  0.79396672, -0.31857506, -0.50546566],\n",
       "       [ 0.8895653 , -0.16570939, -0.35565879, -0.23392476],\n",
       "       [ 0.38339176,  0.34388424,  0.85316928, -0.08280438]])"
      ]
     },
     "execution_count": 88,
     "metadata": {},
     "output_type": "execute_result"
    }
   ],
   "source": [
    "principle_comp_byhand = eigenvec[1][:,odering]\n",
    "principle_comp_byhand"
   ]
  },
  {
   "cell_type": "code",
   "execution_count": 89,
   "metadata": {},
   "outputs": [
    {
     "data": {
      "text/plain": [
       "array([[ 0.22147929,  0.47318166, -0.21004507,  0.82639404],\n",
       "       [-0.11238884,  0.79396672, -0.31857506, -0.50546566],\n",
       "       [ 0.8895653 , -0.16570939, -0.35565879, -0.23392476]])"
      ]
     },
     "execution_count": 89,
     "metadata": {},
     "output_type": "execute_result"
    }
   ],
   "source": [
    "principle_comp_byhand[:3]"
   ]
  },
  {
   "cell_type": "code",
   "execution_count": null,
   "metadata": {},
   "outputs": [],
   "source": []
  },
  {
   "cell_type": "code",
   "execution_count": null,
   "metadata": {},
   "outputs": [],
   "source": []
  },
  {
   "cell_type": "code",
   "execution_count": 86,
   "metadata": {},
   "outputs": [
    {
     "data": {
      "text/plain": [
       "array([[ 0.22147929, -0.11238884,  0.8895653 ,  0.38339176],\n",
       "       [-0.47318166, -0.79396672,  0.16570939, -0.34388424],\n",
       "       [-0.21004507, -0.31857506, -0.35565879,  0.85316928]])"
      ]
     },
     "execution_count": 86,
     "metadata": {},
     "output_type": "execute_result"
    }
   ],
   "source": [
    "pca.components_"
   ]
  },
  {
   "cell_type": "code",
   "execution_count": null,
   "metadata": {},
   "outputs": [],
   "source": []
  }
 ],
 "metadata": {
  "kernelspec": {
   "display_name": "Python 3 (ipykernel)",
   "language": "python",
   "name": "python3"
  },
  "language_info": {
   "codemirror_mode": {
    "name": "ipython",
    "version": 3
   },
   "file_extension": ".py",
   "mimetype": "text/x-python",
   "name": "python",
   "nbconvert_exporter": "python",
   "pygments_lexer": "ipython3",
   "version": "3.9.13"
  },
  "widgets": {
   "application/vnd.jupyter.widget-state+json": {
    "state": {},
    "version_major": 2,
    "version_minor": 0
   }
  }
 },
 "nbformat": 4,
 "nbformat_minor": 4
}
